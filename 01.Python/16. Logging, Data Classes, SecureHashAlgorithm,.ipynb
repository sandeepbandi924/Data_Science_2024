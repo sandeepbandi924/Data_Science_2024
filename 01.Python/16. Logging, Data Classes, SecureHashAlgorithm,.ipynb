{
 "cells": [
  {
   "cell_type": "code",
   "execution_count": 3,
   "id": "47de0555",
   "metadata": {},
   "outputs": [],
   "source": [
    "import logging\n",
    "\n",
    "logging.basicConfig(filename='sand.log',filemode='a',\n",
    "                   level=logging.INFO,\n",
    "                   format='%(asctime)s %(levelname)s %(message)s')\n",
    "\n",
    "for i in range(0,15):\n",
    "#     try:\n",
    "#         i = i/0\n",
    "#     except:\n",
    "#         logging.exception('Division error')\n",
    "    if i%2==0:\n",
    "        logging.warning('Log warning Message')\n",
    "    elif i%3==0:\n",
    "        logging.critical('Log critical message')\n",
    "    else:\n",
    "        logging.error('Log error message')"
   ]
  },
  {
   "cell_type": "code",
   "execution_count": 5,
   "id": "fd6fff5f",
   "metadata": {},
   "outputs": [],
   "source": [
    "i=10\n",
    "try :\n",
    "    i=i/0\n",
    "except Exception as e:\n",
    "    logging.exception('Exception occured '+ str(e))\n",
    "    "
   ]
  },
  {
   "cell_type": "code",
   "execution_count": null,
   "id": "025b467f",
   "metadata": {},
   "outputs": [],
   "source": []
  },
  {
   "cell_type": "code",
   "execution_count": null,
   "id": "cf5cb5a1",
   "metadata": {},
   "outputs": [],
   "source": []
  },
  {
   "cell_type": "markdown",
   "id": "c460fb3f",
   "metadata": {},
   "source": [
    "## SHA Crtptography\n",
    "- SHA256\n",
    "- SHA384\n",
    "- SHA224\n",
    "- SHA512"
   ]
  },
  {
   "cell_type": "code",
   "execution_count": 6,
   "id": "0fcee60b",
   "metadata": {},
   "outputs": [],
   "source": [
    "import hashlib"
   ]
  },
  {
   "cell_type": "code",
   "execution_count": 9,
   "id": "adc4094f",
   "metadata": {},
   "outputs": [
    {
     "name": "stdout",
     "output_type": "stream",
     "text": [
      "<sha256 _hashlib.HASH object @ 0x000001AADCF7AD50>\n"
     ]
    }
   ],
   "source": [
    "str1 = 'sandeep1'\n",
    "# process of hashing\n",
    "# first step to encode\n",
    "# then apply algorithms\n",
    "\n",
    "hashedval = hashlib.sha256(str1.encode())  #4bytes * 64 characters\n",
    "print(hashedval)"
   ]
  },
  {
   "cell_type": "code",
   "execution_count": 10,
   "id": "19255f66",
   "metadata": {},
   "outputs": [
    {
     "data": {
      "text/plain": [
       "'bcaaa16b17034365a2777089bc135a632a4dde63c5fb6a43bafa9ded98f28f50'"
      ]
     },
     "execution_count": 10,
     "metadata": {},
     "output_type": "execute_result"
    }
   ],
   "source": [
    "#convert this value to hexadecimal\n",
    "hashedval.hexdigest()"
   ]
  },
  {
   "cell_type": "code",
   "execution_count": 11,
   "id": "33f2b068",
   "metadata": {},
   "outputs": [
    {
     "data": {
      "text/plain": [
       "'69db7159391b8de98f1873bdb883b32b155596e32a1b8f2c1bcb0304fbe08844c2e92f739286212a46f785e8aa1ef01d'"
      ]
     },
     "execution_count": 11,
     "metadata": {},
     "output_type": "execute_result"
    }
   ],
   "source": [
    "#SHA384\n",
    "#4bytes * 96 characters\n",
    "hashedval = hashlib.sha384(str1.encode())\n",
    "hashedval.hexdigest()"
   ]
  },
  {
   "cell_type": "code",
   "execution_count": 14,
   "id": "dce94570",
   "metadata": {},
   "outputs": [
    {
     "name": "stdout",
     "output_type": "stream",
     "text": [
      "56\n"
     ]
    },
    {
     "data": {
      "text/plain": [
       "'7104bff65f82d8632c3a80d58136d69b5859a2060dbf1d7d87841f2e'"
      ]
     },
     "execution_count": 14,
     "metadata": {},
     "output_type": "execute_result"
    }
   ],
   "source": [
    "#SHA384\n",
    "#4bytes * 56 characters\n",
    "hashedval = hashlib.sha224(str1.encode())\n",
    "print(len(hashedval.hexdigest()))\n",
    "hashedval.hexdigest()"
   ]
  },
  {
   "cell_type": "code",
   "execution_count": 15,
   "id": "567ff23b",
   "metadata": {},
   "outputs": [
    {
     "name": "stdout",
     "output_type": "stream",
     "text": [
      "128\n"
     ]
    },
    {
     "data": {
      "text/plain": [
       "'0d3c351cb9ed0091c17a70890bace9382b416abc5f866204de8726bbe8009f4c993a2fc64471bfab2ddc27c6cc74fc085f86b0acc8933db254548f53839b6cf5'"
      ]
     },
     "execution_count": 15,
     "metadata": {},
     "output_type": "execute_result"
    }
   ],
   "source": [
    "#SHA384\n",
    "#4bytes * 128 characters\n",
    "hashedval = hashlib.sha512(str1.encode())\n",
    "print(len(hashedval.hexdigest()))\n",
    "hashedval.hexdigest()"
   ]
  },
  {
   "cell_type": "code",
   "execution_count": null,
   "id": "a31bc9f8",
   "metadata": {},
   "outputs": [],
   "source": []
  },
  {
   "cell_type": "markdown",
   "id": "36b3e0c2",
   "metadata": {},
   "source": [
    "## Data Classes\n",
    "- In Python, the dataclass decorator is a feature introduced in Python 3.7 that provides a concise way to define classes primarily intended to store data. It automatically generates several special methods, such as init, repr, and eq, based on the class attributes you define. This simplifies the process of creating and working with data-focused classes."
   ]
  },
  {
   "cell_type": "markdown",
   "id": "0a4e747f",
   "metadata": {},
   "source": [
    "### The @dataclass decorator automatically generates the following methods for you:\n",
    "\n",
    "- init(): Initializes the object and assigns the provided values to the attributes.\n",
    "- repr(): Provides a string representation of the object.\n",
    "- eq(): Implements equality comparison between two objects of the class based on their attributes."
   ]
  },
  {
   "cell_type": "code",
   "execution_count": 18,
   "id": "b5bc48e5",
   "metadata": {},
   "outputs": [
    {
     "name": "stdout",
     "output_type": "stream",
     "text": [
      "<__main__.Person object at 0x000001AADCF10E50>\n"
     ]
    }
   ],
   "source": [
    "class Person:\n",
    "    def __init__(self,name,age):\n",
    "        self.name=name\n",
    "        self.age=age\n",
    "person1 = Person('sandeep',25)\n",
    "print(person1)"
   ]
  },
  {
   "cell_type": "code",
   "execution_count": 19,
   "id": "75382553",
   "metadata": {},
   "outputs": [],
   "source": [
    "from dataclasses import dataclass\n",
    "\n",
    "@dataclass\n",
    "class Person:\n",
    "    name:str\n",
    "    age:int\n",
    "    profession:str\n",
    "        \n",
    "person1 = Person('sandeep',25,'AI')"
   ]
  },
  {
   "cell_type": "code",
   "execution_count": 20,
   "id": "223ebc53",
   "metadata": {},
   "outputs": [
    {
     "data": {
      "text/plain": [
       "Person(name='sandeep', age=25, profession='AI')"
      ]
     },
     "execution_count": 20,
     "metadata": {},
     "output_type": "execute_result"
    }
   ],
   "source": [
    "person1"
   ]
  },
  {
   "cell_type": "code",
   "execution_count": 21,
   "id": "96ce00a6",
   "metadata": {},
   "outputs": [],
   "source": [
    "@dataclass\n",
    "class Person:\n",
    "    name:str\n",
    "    age:int\n",
    "    profession:str = 'ML Engineer'\n",
    "    \n",
    "person1 = Person('sandeep',25)"
   ]
  },
  {
   "cell_type": "code",
   "execution_count": 22,
   "id": "4fe01357",
   "metadata": {},
   "outputs": [
    {
     "data": {
      "text/plain": [
       "Person(name='sandeep', age=25, profession='ML Engineer')"
      ]
     },
     "execution_count": 22,
     "metadata": {},
     "output_type": "execute_result"
    }
   ],
   "source": [
    "person1"
   ]
  },
  {
   "cell_type": "code",
   "execution_count": 23,
   "id": "7057b857",
   "metadata": {},
   "outputs": [],
   "source": [
    "person1.profession = 'Data Scientist' #we can overide"
   ]
  },
  {
   "cell_type": "code",
   "execution_count": 24,
   "id": "b45579dc",
   "metadata": {},
   "outputs": [
    {
     "data": {
      "text/plain": [
       "Person(name='sandeep', age=25, profession='Data Scientist')"
      ]
     },
     "execution_count": 24,
     "metadata": {},
     "output_type": "execute_result"
    }
   ],
   "source": [
    "person1"
   ]
  },
  {
   "cell_type": "code",
   "execution_count": 27,
   "id": "1df7a991",
   "metadata": {},
   "outputs": [
    {
     "name": "stdout",
     "output_type": "stream",
     "text": [
      "Point(x=3, y=4)\n"
     ]
    }
   ],
   "source": [
    "# Immutable class\n",
    "\n",
    "@dataclass(frozen=True)\n",
    "class Point:\n",
    "    x:int\n",
    "    y:int\n",
    "point = Point(3,4)\n",
    "print(point)"
   ]
  },
  {
   "cell_type": "code",
   "execution_count": 28,
   "id": "dc7dee45",
   "metadata": {},
   "outputs": [
    {
     "ename": "FrozenInstanceError",
     "evalue": "cannot assign to field 'x'",
     "output_type": "error",
     "traceback": [
      "\u001b[1;31m---------------------------------------------------------------------------\u001b[0m",
      "\u001b[1;31mFrozenInstanceError\u001b[0m                       Traceback (most recent call last)",
      "Cell \u001b[1;32mIn[28], line 1\u001b[0m\n\u001b[1;32m----> 1\u001b[0m point\u001b[38;5;241m.\u001b[39mx \u001b[38;5;241m=\u001b[39m \u001b[38;5;241m32\u001b[39m\n",
      "File \u001b[1;32m<string>:4\u001b[0m, in \u001b[0;36m__setattr__\u001b[1;34m(self, name, value)\u001b[0m\n",
      "\u001b[1;31mFrozenInstanceError\u001b[0m: cannot assign to field 'x'"
     ]
    }
   ],
   "source": [
    "point.x = 32"
   ]
  },
  {
   "cell_type": "code",
   "execution_count": 29,
   "id": "314fb907",
   "metadata": {},
   "outputs": [],
   "source": [
    "# Inheritance\n",
    "\n",
    "@dataclass\n",
    "class Person:\n",
    "    name:str\n",
    "    age:int\n",
    "\n",
    "@dataclass\n",
    "class Employee(Person):\n",
    "    employee_id:int\n",
    "    department:str\n",
    "\n",
    "person = Person('Sandeep',25)\n",
    "employee = Employee('Sandeep',25,'123','ML ENgineer')"
   ]
  },
  {
   "cell_type": "code",
   "execution_count": 30,
   "id": "236dda8b",
   "metadata": {},
   "outputs": [
    {
     "data": {
      "text/plain": [
       "Employee(name='Sandeep', age=25, employee_id='123', department='ML ENgineer')"
      ]
     },
     "execution_count": 30,
     "metadata": {},
     "output_type": "execute_result"
    }
   ],
   "source": [
    "employee"
   ]
  },
  {
   "cell_type": "code",
   "execution_count": 32,
   "id": "416d334b",
   "metadata": {},
   "outputs": [],
   "source": [
    "# Nested Dataclass\n",
    "\n",
    "@dataclass\n",
    "class Address:\n",
    "    street:str\n",
    "    city:str\n",
    "    zip_code:int\n",
    "\n",
    "@dataclass\n",
    "class Person:\n",
    "    name:str\n",
    "    age:int\n",
    "    address:Address\n",
    " \n",
    "\n",
    "address = Address('123 street','Hyderabad','505326')\n",
    "person= Person('sandeep',25,address)"
   ]
  },
  {
   "cell_type": "code",
   "execution_count": 33,
   "id": "c547a5bf",
   "metadata": {},
   "outputs": [
    {
     "data": {
      "text/plain": [
       "Person(name='sandeep', age=25, address=Address(street='123 street', city='Hyderabad', zip_code='505326'))"
      ]
     },
     "execution_count": 33,
     "metadata": {},
     "output_type": "execute_result"
    }
   ],
   "source": [
    "person"
   ]
  },
  {
   "cell_type": "code",
   "execution_count": 34,
   "id": "8bb1da6d",
   "metadata": {},
   "outputs": [
    {
     "data": {
      "text/plain": [
       "'123 street'"
      ]
     },
     "execution_count": 34,
     "metadata": {},
     "output_type": "execute_result"
    }
   ],
   "source": [
    "person.address.street"
   ]
  },
  {
   "cell_type": "code",
   "execution_count": null,
   "id": "b523bc10",
   "metadata": {},
   "outputs": [],
   "source": []
  }
 ],
 "metadata": {
  "kernelspec": {
   "display_name": "Python 3 (ipykernel)",
   "language": "python",
   "name": "python3"
  },
  "language_info": {
   "codemirror_mode": {
    "name": "ipython",
    "version": 3
   },
   "file_extension": ".py",
   "mimetype": "text/x-python",
   "name": "python",
   "nbconvert_exporter": "python",
   "pygments_lexer": "ipython3",
   "version": "3.10.9"
  }
 },
 "nbformat": 4,
 "nbformat_minor": 5
}

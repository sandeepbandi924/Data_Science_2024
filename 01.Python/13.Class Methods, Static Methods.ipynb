{
 "cells": [
  {
   "cell_type": "markdown",
   "id": "994a66aa",
   "metadata": {},
   "source": [
    "# Class Methods and Variables"
   ]
  },
  {
   "cell_type": "code",
   "execution_count": 9,
   "id": "467357f9",
   "metadata": {},
   "outputs": [],
   "source": [
    "class Car:\n",
    "    base_price = 100000 #class variable\n",
    "    def __init__(self,window,door,power):\n",
    "        self.window = window\n",
    "        self.door=door\n",
    "        self.power=power\n",
    "    def what_base_price(self):\n",
    "        print(f'The base price is {self.base_price}')\n",
    "        \n",
    "    @classmethod\n",
    "    def revise_base_price(cls,inflation):\n",
    "        cls.base_price = cls.base_price + cls.base_price*inflation"
   ]
  },
  {
   "cell_type": "code",
   "execution_count": 10,
   "id": "63db30b7",
   "metadata": {},
   "outputs": [],
   "source": [
    "Car.revise_base_price(0.10)"
   ]
  },
  {
   "cell_type": "code",
   "execution_count": 11,
   "id": "2d9eb8e7",
   "metadata": {},
   "outputs": [
    {
     "data": {
      "text/plain": [
       "110000.0"
      ]
     },
     "execution_count": 11,
     "metadata": {},
     "output_type": "execute_result"
    }
   ],
   "source": [
    "Car.base_price "
   ]
  },
  {
   "cell_type": "code",
   "execution_count": 12,
   "id": "3154725c",
   "metadata": {},
   "outputs": [],
   "source": [
    "car1 = Car(4,5,2000)"
   ]
  },
  {
   "cell_type": "code",
   "execution_count": 13,
   "id": "475111c2",
   "metadata": {},
   "outputs": [
    {
     "name": "stdout",
     "output_type": "stream",
     "text": [
      "The base price is 110000.0\n"
     ]
    }
   ],
   "source": [
    "car1.what_base_price()  #price updated"
   ]
  },
  {
   "cell_type": "code",
   "execution_count": null,
   "id": "ebed391e",
   "metadata": {},
   "outputs": [],
   "source": []
  },
  {
   "cell_type": "markdown",
   "id": "a1d7e1de",
   "metadata": {},
   "source": [
    "# Static Methods"
   ]
  },
  {
   "cell_type": "code",
   "execution_count": 16,
   "id": "c1b7d05c",
   "metadata": {},
   "outputs": [
    {
     "data": {
      "text/plain": [
       "datetime.datetime(2024, 1, 3, 11, 32, 16, 909076)"
      ]
     },
     "execution_count": 16,
     "metadata": {},
     "output_type": "execute_result"
    }
   ],
   "source": [
    "import datetime\n",
    "now = datetime.datetime.now()\n",
    "now"
   ]
  },
  {
   "cell_type": "code",
   "execution_count": 17,
   "id": "f58a7ea0",
   "metadata": {},
   "outputs": [
    {
     "data": {
      "text/plain": [
       "2024"
      ]
     },
     "execution_count": 17,
     "metadata": {},
     "output_type": "execute_result"
    }
   ],
   "source": [
    "now.year"
   ]
  },
  {
   "cell_type": "code",
   "execution_count": 37,
   "id": "6003e28e",
   "metadata": {},
   "outputs": [],
   "source": [
    "class Car:\n",
    "    base_price = 100000\n",
    "    def __init__(self,window,door,power):\n",
    "        self.window = window\n",
    "        self.door = door\n",
    "        self.power = power\n",
    "        \n",
    "    def what_base_price(self):\n",
    "        print(f'The base price is {self.base_price}')\n",
    "    @classmethod\n",
    "    def revise_base_price(cls,inflation):\n",
    "        cls.base_price=cls.base_price+cls.base_price*inflation\n",
    "    @staticmethod\n",
    "    def check_year():\n",
    "        if now.year == 2024:\n",
    "            return True\n",
    "        else:\n",
    "            return False\n",
    "        \n",
    "    "
   ]
  },
  {
   "cell_type": "code",
   "execution_count": 38,
   "id": "750023d5",
   "metadata": {},
   "outputs": [],
   "source": [
    "car1 = Car(4,5,2000)"
   ]
  },
  {
   "cell_type": "code",
   "execution_count": 39,
   "id": "1930d7b5",
   "metadata": {},
   "outputs": [],
   "source": [
    "if (car1.check_year()):\n",
    "    pass\n",
    "else:\n",
    "    Car.revise_base_price()"
   ]
  },
  {
   "cell_type": "code",
   "execution_count": 40,
   "id": "7427cb4e",
   "metadata": {},
   "outputs": [
    {
     "data": {
      "text/plain": [
       "110000.0"
      ]
     },
     "execution_count": 40,
     "metadata": {},
     "output_type": "execute_result"
    }
   ],
   "source": [
    "Car1.base_price"
   ]
  },
  {
   "cell_type": "code",
   "execution_count": null,
   "id": "1c86e9e8",
   "metadata": {},
   "outputs": [],
   "source": []
  },
  {
   "cell_type": "markdown",
   "id": "92aab47e",
   "metadata": {},
   "source": [
    "# Multiple inheritance"
   ]
  },
  {
   "cell_type": "code",
   "execution_count": 41,
   "id": "06eda97a",
   "metadata": {},
   "outputs": [],
   "source": [
    "class A:\n",
    "    def meth1(self):\n",
    "        print('A Method is called')\n",
    "        "
   ]
  },
  {
   "cell_type": "code",
   "execution_count": 42,
   "id": "20f103c4",
   "metadata": {},
   "outputs": [],
   "source": [
    "class B(A):\n",
    "    def meth1(self):\n",
    "        print('B method is called')"
   ]
  },
  {
   "cell_type": "code",
   "execution_count": 43,
   "id": "11d85d0b",
   "metadata": {},
   "outputs": [],
   "source": [
    "class C(A):\n",
    "    def meth1(self):\n",
    "        print('C method is called')"
   ]
  },
  {
   "cell_type": "code",
   "execution_count": 44,
   "id": "4176fc10",
   "metadata": {},
   "outputs": [],
   "source": [
    "class D(B,C):\n",
    "    def meth1(self):\n",
    "        print('D method is called')   \n",
    "        C.meth1(self)\n",
    "        #A.meth1(self)\n",
    "        #B.meth1(self)"
   ]
  },
  {
   "cell_type": "code",
   "execution_count": 45,
   "id": "d232b52d",
   "metadata": {},
   "outputs": [],
   "source": [
    "d = D()"
   ]
  },
  {
   "cell_type": "code",
   "execution_count": 46,
   "id": "05cf99b9",
   "metadata": {},
   "outputs": [
    {
     "name": "stdout",
     "output_type": "stream",
     "text": [
      "D method is called\n"
     ]
    }
   ],
   "source": [
    "d.meth1()"
   ]
  },
  {
   "cell_type": "code",
   "execution_count": 50,
   "id": "5c105eaf",
   "metadata": {},
   "outputs": [
    {
     "name": "stdout",
     "output_type": "stream",
     "text": [
      "B method is called\n"
     ]
    }
   ],
   "source": [
    "B.meth1(d)"
   ]
  },
  {
   "cell_type": "code",
   "execution_count": 48,
   "id": "e9fcdfbd",
   "metadata": {},
   "outputs": [
    {
     "name": "stdout",
     "output_type": "stream",
     "text": [
      "A Method is called\n"
     ]
    }
   ],
   "source": [
    "A.meth1(d)"
   ]
  },
  {
   "cell_type": "code",
   "execution_count": null,
   "id": "457ccd91",
   "metadata": {},
   "outputs": [],
   "source": []
  }
 ],
 "metadata": {
  "kernelspec": {
   "display_name": "Python 3 (ipykernel)",
   "language": "python",
   "name": "python3"
  },
  "language_info": {
   "codemirror_mode": {
    "name": "ipython",
    "version": 3
   },
   "file_extension": ".py",
   "mimetype": "text/x-python",
   "name": "python",
   "nbconvert_exporter": "python",
   "pygments_lexer": "ipython3",
   "version": "3.10.9"
  }
 },
 "nbformat": 4,
 "nbformat_minor": 5
}

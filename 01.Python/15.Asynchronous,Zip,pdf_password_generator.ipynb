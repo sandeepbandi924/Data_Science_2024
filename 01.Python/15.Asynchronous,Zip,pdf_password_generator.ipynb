{
 "cells": [
  {
   "cell_type": "markdown",
   "id": "e953c844",
   "metadata": {},
   "source": [
    "## Asynchronous Execution(Parallel Execution)"
   ]
  },
  {
   "cell_type": "code",
   "execution_count": 6,
   "id": "ed1fb726",
   "metadata": {},
   "outputs": [],
   "source": [
    "import time\n",
    "from concurrent.futures import ThreadPoolExecutor\n",
    "def returnNum(a):\n",
    "    time.sleep(1)\n",
    "    return a\n",
    "\n"
   ]
  },
  {
   "cell_type": "code",
   "execution_count": 7,
   "id": "c67d01c5",
   "metadata": {},
   "outputs": [
    {
     "data": {
      "text/plain": [
       "12"
      ]
     },
     "execution_count": 7,
     "metadata": {},
     "output_type": "execute_result"
    }
   ],
   "source": [
    "returnNum(12)"
   ]
  },
  {
   "cell_type": "code",
   "execution_count": 9,
   "id": "9b8546ed",
   "metadata": {},
   "outputs": [
    {
     "name": "stdout",
     "output_type": "stream",
     "text": [
      "count: 0\n",
      "count: 1\n",
      "count: 2\n",
      "count: 3\n",
      "count: 4\n",
      "count: 5\n",
      "count: 6\n",
      "count: 7\n",
      "count: 8\n",
      "count: 9\n",
      "count: 10\n",
      "count: 11\n",
      "count: 12\n",
      "count: 13\n",
      "count: 14\n",
      "count: 15\n",
      "count: 16\n",
      "count: 17\n",
      "count: 18\n",
      "count: 19\n",
      "count: 20\n",
      "count: 21\n",
      "count: 22\n",
      "count: 23\n",
      "count: 24\n",
      "count: 25\n",
      "count: 26\n",
      "count: 27\n",
      "count: 28\n",
      "count: 29\n",
      "count: 30\n",
      "count: 31\n",
      "count: 32\n",
      "count: 33\n",
      "count: 34\n",
      "count: 35\n",
      "count: 36\n",
      "count: 37\n",
      "count: 38\n",
      "count: 39\n",
      "count: 40\n",
      "count: 41\n",
      "count: 42\n",
      "count: 43\n",
      "count: 44\n",
      "count: 45\n",
      "count: 46\n",
      "count: 47\n",
      "count: 48\n",
      "count: 49\n",
      "count: 50\n",
      "count: 51\n",
      "count: 52\n",
      "count: 53\n",
      "count: 54\n",
      "count: 55\n",
      "count: 56\n",
      "count: 57\n",
      "count: 58\n",
      "count: 59\n",
      "count: 60\n",
      "count: 61\n",
      "count: 62\n",
      "count: 63\n",
      "count: 64\n",
      "count: 65\n",
      "count: 66\n",
      "count: 67\n",
      "count: 68\n",
      "count: 69\n",
      "count: 70\n",
      "count: 71\n",
      "count: 72\n",
      "count: 73\n",
      "count: 74\n",
      "count: 75\n",
      "count: 76\n",
      "count: 77\n",
      "count: 78\n",
      "count: 79\n",
      "count: 80\n",
      "count: 81\n",
      "count: 82\n",
      "count: 83\n",
      "count: 84\n",
      "count: 85\n",
      "count: 86\n",
      "count: 87\n",
      "count: 88\n",
      "count: 89\n",
      "count: 90\n",
      "count: 91\n",
      "count: 92\n",
      "count: 93\n",
      "count: 94\n",
      "count: 95\n",
      "count: 96\n",
      "count: 97\n",
      "count: 98\n",
      "count: 99\n",
      "Total time is 20.14445424079895\n"
     ]
    }
   ],
   "source": [
    "start=time.time()\n",
    "with ThreadPoolExecutor(max_workers=5) as exeutor:\n",
    "    for res in exeutor.map(returnNum,range(100)):\n",
    "        print(f\"count: {res}\")\n",
    "        \n",
    "print(f'Total time is {time.time() - start}')"
   ]
  },
  {
   "cell_type": "markdown",
   "id": "d5728da7",
   "metadata": {},
   "source": [
    "## Vulture Library \n",
    "- Find dead code"
   ]
  },
  {
   "cell_type": "code",
   "execution_count": null,
   "id": "4a232f9e",
   "metadata": {},
   "outputs": [],
   "source": [
    "Pip install vulture"
   ]
  },
  {
   "cell_type": "markdown",
   "id": "d6117a7f",
   "metadata": {},
   "source": [
    "## Zip Function - Parallel Iteration"
   ]
  },
  {
   "cell_type": "code",
   "execution_count": 14,
   "id": "56a0792b",
   "metadata": {},
   "outputs": [],
   "source": [
    "lst1 = ['sand','band','sum']\n",
    "lst2 = [1,2,3]"
   ]
  },
  {
   "cell_type": "code",
   "execution_count": 28,
   "id": "e11f3a4b",
   "metadata": {},
   "outputs": [],
   "source": [
    "output = zip(lst1,lst2)"
   ]
  },
  {
   "cell_type": "code",
   "execution_count": 29,
   "id": "950b04bf",
   "metadata": {},
   "outputs": [
    {
     "data": {
      "text/plain": [
       "<zip at 0x225271a98c0>"
      ]
     },
     "execution_count": 29,
     "metadata": {},
     "output_type": "execute_result"
    }
   ],
   "source": [
    "output"
   ]
  },
  {
   "cell_type": "code",
   "execution_count": 18,
   "id": "d28ae225",
   "metadata": {},
   "outputs": [
    {
     "data": {
      "text/plain": [
       "[('sand', 1), ('band', 2), ('sum', 3)]"
      ]
     },
     "execution_count": 18,
     "metadata": {},
     "output_type": "execute_result"
    }
   ],
   "source": [
    "list(output)"
   ]
  },
  {
   "cell_type": "code",
   "execution_count": 22,
   "id": "410d3db8",
   "metadata": {},
   "outputs": [
    {
     "data": {
      "text/plain": [
       "('sand', 1)"
      ]
     },
     "execution_count": 22,
     "metadata": {},
     "output_type": "execute_result"
    }
   ],
   "source": [
    "## Zip object is an iterator\n",
    "\n",
    "next(output)"
   ]
  },
  {
   "cell_type": "code",
   "execution_count": 23,
   "id": "dff38356",
   "metadata": {},
   "outputs": [
    {
     "data": {
      "text/plain": [
       "('band', 2)"
      ]
     },
     "execution_count": 23,
     "metadata": {},
     "output_type": "execute_result"
    }
   ],
   "source": [
    "next(output)"
   ]
  },
  {
   "cell_type": "code",
   "execution_count": 24,
   "id": "91491571",
   "metadata": {},
   "outputs": [
    {
     "data": {
      "text/plain": [
       "('sum', 3)"
      ]
     },
     "execution_count": 24,
     "metadata": {},
     "output_type": "execute_result"
    }
   ],
   "source": [
    "next(output)"
   ]
  },
  {
   "cell_type": "code",
   "execution_count": 25,
   "id": "58cf9fc3",
   "metadata": {},
   "outputs": [
    {
     "ename": "StopIteration",
     "evalue": "",
     "output_type": "error",
     "traceback": [
      "\u001b[1;31m---------------------------------------------------------------------------\u001b[0m",
      "\u001b[1;31mStopIteration\u001b[0m                             Traceback (most recent call last)",
      "Cell \u001b[1;32mIn[25], line 1\u001b[0m\n\u001b[1;32m----> 1\u001b[0m \u001b[38;5;28;43mnext\u001b[39;49m\u001b[43m(\u001b[49m\u001b[43moutput\u001b[49m\u001b[43m)\u001b[49m\n",
      "\u001b[1;31mStopIteration\u001b[0m: "
     ]
    }
   ],
   "source": [
    "next(output)"
   ]
  },
  {
   "cell_type": "code",
   "execution_count": 30,
   "id": "78fbabbe",
   "metadata": {},
   "outputs": [
    {
     "name": "stdout",
     "output_type": "stream",
     "text": [
      "sand 1\n",
      "band 2\n",
      "sum 3\n"
     ]
    }
   ],
   "source": [
    "for i,j in output:\n",
    "    print(i,j)"
   ]
  },
  {
   "cell_type": "code",
   "execution_count": 31,
   "id": "d9c8ba22",
   "metadata": {},
   "outputs": [],
   "source": [
    "lst1 = ['sand','band','sum']\n",
    "lst2 = [1,2,3]\n",
    "lst3 = ['radha','krishna','vishnu'] #if there is an extra element it wil skip that element\n"
   ]
  },
  {
   "cell_type": "code",
   "execution_count": 32,
   "id": "77947615",
   "metadata": {},
   "outputs": [
    {
     "name": "stdout",
     "output_type": "stream",
     "text": [
      "sand 1 radha\n",
      "band 2 krishna\n",
      "sum 3 vishnu\n"
     ]
    }
   ],
   "source": [
    "output = zip(lst1,lst2,lst3)\n",
    "for i ,j,k in output:\n",
    "    print(i,j,k)"
   ]
  },
  {
   "cell_type": "code",
   "execution_count": 33,
   "id": "42d94eaf",
   "metadata": {},
   "outputs": [
    {
     "data": {
      "text/plain": [
       "[]"
      ]
     },
     "execution_count": 33,
     "metadata": {},
     "output_type": "execute_result"
    }
   ],
   "source": [
    "list(zip()) #empty zip"
   ]
  },
  {
   "cell_type": "code",
   "execution_count": 38,
   "id": "f5a8f1a1",
   "metadata": {},
   "outputs": [],
   "source": [
    "dict1 = {'name':'sandeep','lst_name':'bandi','age':25}\n",
    "dict2 = {'name':'Sumanth','lst_name':'bandi','age':22}\n",
    "#dict = {'name':'sandeep','lst_name':'bandi','age':25}"
   ]
  },
  {
   "cell_type": "code",
   "execution_count": 41,
   "id": "139113b3",
   "metadata": {},
   "outputs": [],
   "source": [
    "dictionary = zip(dict1.items(),dict2.items())"
   ]
  },
  {
   "cell_type": "code",
   "execution_count": null,
   "id": "6aede5a0",
   "metadata": {},
   "outputs": [],
   "source": []
  },
  {
   "cell_type": "code",
   "execution_count": 42,
   "id": "f42737e7",
   "metadata": {},
   "outputs": [
    {
     "name": "stdout",
     "output_type": "stream",
     "text": [
      "name sandeep\n",
      "name Sumanth\n",
      "lst_name bandi\n",
      "lst_name bandi\n",
      "age 25\n",
      "age 22\n"
     ]
    }
   ],
   "source": [
    "for (i,j),(i2,j2) in dictionary:\n",
    "    print(i,j)\n",
    "    print(i2,j2)"
   ]
  },
  {
   "cell_type": "markdown",
   "id": "979284dd",
   "metadata": {},
   "source": [
    "## PDF Password protection"
   ]
  },
  {
   "cell_type": "code",
   "execution_count": 45,
   "id": "da83ee9c",
   "metadata": {},
   "outputs": [
    {
     "name": "stdout",
     "output_type": "stream",
     "text": [
      "Requirement already satisfied: PyPDF2 in c:\\users\\admin\\appdata\\local\\anaconda3\\lib\\site-packages (3.0.1)\n"
     ]
    }
   ],
   "source": [
    "!pip install PyPDF2"
   ]
  },
  {
   "cell_type": "code",
   "execution_count": 51,
   "id": "6889fbfb",
   "metadata": {},
   "outputs": [],
   "source": [
    "from PyPDF2 import PdfReader, PdfWriter"
   ]
  },
  {
   "cell_type": "code",
   "execution_count": 52,
   "id": "9a04c061",
   "metadata": {},
   "outputs": [],
   "source": [
    "##open current pdf\n",
    "file_pdf = PdfReader(\"SANDEEP's Resume.pdf\")\n",
    "##obj for pdf writer\n",
    "out_pdf = PdfWriter()"
   ]
  },
  {
   "cell_type": "code",
   "execution_count": 53,
   "id": "7385e332",
   "metadata": {},
   "outputs": [
    {
     "data": {
      "text/plain": [
       "<PyPDF2._reader.PdfReader at 0x22528d169e0>"
      ]
     },
     "execution_count": 53,
     "metadata": {},
     "output_type": "execute_result"
    }
   ],
   "source": [
    "file_pdf"
   ]
  },
  {
   "cell_type": "code",
   "execution_count": 58,
   "id": "3f5ff4be",
   "metadata": {},
   "outputs": [
    {
     "data": {
      "text/plain": [
       "1"
      ]
     },
     "execution_count": 58,
     "metadata": {},
     "output_type": "execute_result"
    }
   ],
   "source": [
    "len(file_pdf.pages) #no of pages"
   ]
  },
  {
   "cell_type": "code",
   "execution_count": 62,
   "id": "92cdd1f3",
   "metadata": {},
   "outputs": [],
   "source": [
    "for i in range(len(file_pdf.pages)):\n",
    "    page_details = file_pdf.pages[i]\n",
    "\n",
    "    ##add to output page\n",
    "    out_pdf.add_page(page_details)"
   ]
  },
  {
   "cell_type": "code",
   "execution_count": 63,
   "id": "1d7d6b60",
   "metadata": {},
   "outputs": [],
   "source": [
    "password='1234'\n",
    "\n",
    "out_pdf.encrypt(password)"
   ]
  },
  {
   "cell_type": "code",
   "execution_count": 64,
   "id": "3d875757",
   "metadata": {},
   "outputs": [],
   "source": [
    "with open(\"encryptedtickets.pdf\",'wb') as filename:\n",
    "    out_pdf.write(filename)"
   ]
  },
  {
   "cell_type": "code",
   "execution_count": null,
   "id": "e27b1c1e",
   "metadata": {},
   "outputs": [],
   "source": []
  }
 ],
 "metadata": {
  "kernelspec": {
   "display_name": "Python 3 (ipykernel)",
   "language": "python",
   "name": "python3"
  },
  "language_info": {
   "codemirror_mode": {
    "name": "ipython",
    "version": 3
   },
   "file_extension": ".py",
   "mimetype": "text/x-python",
   "name": "python",
   "nbconvert_exporter": "python",
   "pygments_lexer": "ipython3",
   "version": "3.10.9"
  }
 },
 "nbformat": 4,
 "nbformat_minor": 5
}

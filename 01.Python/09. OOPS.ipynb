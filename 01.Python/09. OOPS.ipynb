{
 "cells": [
  {
   "cell_type": "markdown",
   "id": "130ce581",
   "metadata": {},
   "source": [
    "# OOPS\n",
    "- class\n",
    "- object\n",
    "- variables or methods"
   ]
  },
  {
   "cell_type": "code",
   "execution_count": 1,
   "id": "d7e3c4e1",
   "metadata": {},
   "outputs": [],
   "source": [
    "class Car:\n",
    "    pass"
   ]
  },
  {
   "cell_type": "code",
   "execution_count": 2,
   "id": "d4f13db2",
   "metadata": {},
   "outputs": [],
   "source": [
    "car1 = Car()   # obj = class name"
   ]
  },
  {
   "cell_type": "code",
   "execution_count": 3,
   "id": "00bc374f",
   "metadata": {},
   "outputs": [
    {
     "data": {
      "text/plain": [
       "<__main__.Car at 0x20d4b4a9930>"
      ]
     },
     "execution_count": 3,
     "metadata": {},
     "output_type": "execute_result"
    }
   ],
   "source": [
    "car1"
   ]
  },
  {
   "cell_type": "code",
   "execution_count": 4,
   "id": "a399ccf8",
   "metadata": {},
   "outputs": [],
   "source": [
    "car1.windows = 5\n",
    "car1.doors = 4"
   ]
  },
  {
   "cell_type": "code",
   "execution_count": 5,
   "id": "1216be11",
   "metadata": {},
   "outputs": [
    {
     "name": "stdout",
     "output_type": "stream",
     "text": [
      "5\n"
     ]
    }
   ],
   "source": [
    "print(car1.windows)"
   ]
  },
  {
   "cell_type": "code",
   "execution_count": 6,
   "id": "8837328b",
   "metadata": {},
   "outputs": [],
   "source": [
    "car2 = Car()"
   ]
  },
  {
   "cell_type": "code",
   "execution_count": 7,
   "id": "03bfd28b",
   "metadata": {},
   "outputs": [],
   "source": [
    "car2.windows = 3\n",
    "car2.doors=2"
   ]
  },
  {
   "cell_type": "code",
   "execution_count": 9,
   "id": "bb916718",
   "metadata": {},
   "outputs": [
    {
     "name": "stdout",
     "output_type": "stream",
     "text": [
      "3\n"
     ]
    }
   ],
   "source": [
    "print(car2.windows)"
   ]
  },
  {
   "cell_type": "code",
   "execution_count": 10,
   "id": "a6acfbfd",
   "metadata": {},
   "outputs": [],
   "source": [
    "car2.enginetype='petrol'"
   ]
  },
  {
   "cell_type": "code",
   "execution_count": 11,
   "id": "068f435b",
   "metadata": {},
   "outputs": [
    {
     "name": "stdout",
     "output_type": "stream",
     "text": [
      "petrol\n"
     ]
    }
   ],
   "source": [
    "print(car2.enginetype)"
   ]
  },
  {
   "cell_type": "code",
   "execution_count": null,
   "id": "db0912c9",
   "metadata": {},
   "outputs": [],
   "source": []
  },
  {
   "cell_type": "code",
   "execution_count": 30,
   "id": "b9d20181",
   "metadata": {},
   "outputs": [],
   "source": [
    "class Car:\n",
    "    def __init__(self,window,door,enginetype):\n",
    "        self.windows = window\n",
    "        self.doors = door\n",
    "        self.enginetypes = enginetype\n",
    "        \n",
    "    def self_driving(self): #method\n",
    "        return f'This is a {self.enginetypes} car'"
   ]
  },
  {
   "cell_type": "code",
   "execution_count": 31,
   "id": "8b687562",
   "metadata": {},
   "outputs": [],
   "source": [
    "car1 = Car(4,5,'petrol')"
   ]
  },
  {
   "cell_type": "code",
   "execution_count": 32,
   "id": "4c056912",
   "metadata": {},
   "outputs": [
    {
     "data": {
      "text/plain": [
       "'This is a petrol car'"
      ]
     },
     "execution_count": 32,
     "metadata": {},
     "output_type": "execute_result"
    }
   ],
   "source": [
    "car1.self_driving()"
   ]
  },
  {
   "cell_type": "code",
   "execution_count": 15,
   "id": "9822d523",
   "metadata": {},
   "outputs": [],
   "source": [
    "car2 = Car(3,4,'Diesel')"
   ]
  },
  {
   "cell_type": "code",
   "execution_count": 16,
   "id": "3d7115bb",
   "metadata": {},
   "outputs": [
    {
     "name": "stdout",
     "output_type": "stream",
     "text": [
      "4\n"
     ]
    }
   ],
   "source": [
    "print(car1.windows)"
   ]
  },
  {
   "cell_type": "code",
   "execution_count": 17,
   "id": "a6c00bb0",
   "metadata": {},
   "outputs": [
    {
     "data": {
      "text/plain": [
       "4"
      ]
     },
     "execution_count": 17,
     "metadata": {},
     "output_type": "execute_result"
    }
   ],
   "source": [
    "car2.doors"
   ]
  },
  {
   "cell_type": "code",
   "execution_count": 18,
   "id": "84d29807",
   "metadata": {},
   "outputs": [
    {
     "data": {
      "text/plain": [
       "'Diesel'"
      ]
     },
     "execution_count": 18,
     "metadata": {},
     "output_type": "execute_result"
    }
   ],
   "source": [
    "car2.enginetypes"
   ]
  },
  {
   "cell_type": "markdown",
   "id": "8c748977",
   "metadata": {},
   "source": [
    "## Inheritance"
   ]
  },
  {
   "cell_type": "code",
   "execution_count": 52,
   "id": "0c3e0c6d",
   "metadata": {},
   "outputs": [],
   "source": [
    "#Blue print\n",
    "class Car:\n",
    "    def __init__(self,window,door,enginetype):\n",
    "        self.windows = window\n",
    "        self.doors = door\n",
    "        self.enginetype = enginetype\n",
    "        \n",
    "    def drive(self):\n",
    "        return 'The person drives the car'"
   ]
  },
  {
   "cell_type": "code",
   "execution_count": 53,
   "id": "3ac8ff0d",
   "metadata": {},
   "outputs": [],
   "source": [
    "car = Car(4,5,'diesel')"
   ]
  },
  {
   "cell_type": "code",
   "execution_count": 54,
   "id": "7fab410c",
   "metadata": {},
   "outputs": [
    {
     "data": {
      "text/plain": [
       "4"
      ]
     },
     "execution_count": 54,
     "metadata": {},
     "output_type": "execute_result"
    }
   ],
   "source": [
    "car.windows"
   ]
  },
  {
   "cell_type": "code",
   "execution_count": 55,
   "id": "1bd4e2f5",
   "metadata": {},
   "outputs": [
    {
     "data": {
      "text/plain": [
       "'The person drives the car'"
      ]
     },
     "execution_count": 55,
     "metadata": {},
     "output_type": "execute_result"
    }
   ],
   "source": [
    "car.drive()"
   ]
  },
  {
   "cell_type": "code",
   "execution_count": 56,
   "id": "395afb6b",
   "metadata": {},
   "outputs": [],
   "source": [
    "class audi(Car):\n",
    "    def __init__(self,window,door,enginetype,enableAi):\n",
    "        super().__init__(window,door,enginetype)\n",
    "        self.enableai = enableAi\n",
    "    def self_driving(self):\n",
    "        print('Audi supports self driving')"
   ]
  },
  {
   "cell_type": "code",
   "execution_count": 57,
   "id": "4a01f156",
   "metadata": {},
   "outputs": [],
   "source": [
    "audiQ7 = audi(5,5,'diesel',True)"
   ]
  },
  {
   "cell_type": "code",
   "execution_count": 58,
   "id": "01cf013d",
   "metadata": {},
   "outputs": [
    {
     "data": {
      "text/plain": [
       "5"
      ]
     },
     "execution_count": 58,
     "metadata": {},
     "output_type": "execute_result"
    }
   ],
   "source": [
    "audiQ7.windows"
   ]
  },
  {
   "cell_type": "code",
   "execution_count": 59,
   "id": "a602b41e",
   "metadata": {},
   "outputs": [
    {
     "data": {
      "text/plain": [
       "5"
      ]
     },
     "execution_count": 59,
     "metadata": {},
     "output_type": "execute_result"
    }
   ],
   "source": [
    "audiQ7.doors"
   ]
  },
  {
   "cell_type": "code",
   "execution_count": 60,
   "id": "51af4388",
   "metadata": {},
   "outputs": [
    {
     "name": "stdout",
     "output_type": "stream",
     "text": [
      "Audi supports self driving\n"
     ]
    }
   ],
   "source": [
    "audiQ7.self_driving()"
   ]
  },
  {
   "cell_type": "code",
   "execution_count": 61,
   "id": "ae0af371",
   "metadata": {},
   "outputs": [
    {
     "data": {
      "text/plain": [
       "'The person drives the car'"
      ]
     },
     "execution_count": 61,
     "metadata": {},
     "output_type": "execute_result"
    }
   ],
   "source": [
    "audiQ7.drive()"
   ]
  },
  {
   "cell_type": "code",
   "execution_count": null,
   "id": "f8594261",
   "metadata": {},
   "outputs": [],
   "source": []
  },
  {
   "cell_type": "markdown",
   "id": "f668963f",
   "metadata": {},
   "source": [
    "# OOPS - Magic Methods "
   ]
  },
  {
   "cell_type": "code",
   "execution_count": 71,
   "id": "21ca5330",
   "metadata": {},
   "outputs": [],
   "source": [
    "class Car:\n",
    "    def __init__(self,window,door,enginetype):\n",
    "        self.windows = window\n",
    "        self.doors = door\n",
    "        self.enginetype = enginetype\n",
    "    def __str__(self):\n",
    "        return \"The object has been intialize\"\n",
    "    def drive(self):\n",
    "        return 'The person drives the car'"
   ]
  },
  {
   "cell_type": "code",
   "execution_count": 72,
   "id": "22dcdba9",
   "metadata": {},
   "outputs": [],
   "source": [
    "c = Car(4,5,'Diesel')"
   ]
  },
  {
   "cell_type": "code",
   "execution_count": 73,
   "id": "251fb7fd",
   "metadata": {},
   "outputs": [
    {
     "data": {
      "text/plain": [
       "<__main__.Car at 0x20d4b429810>"
      ]
     },
     "execution_count": 73,
     "metadata": {},
     "output_type": "execute_result"
    }
   ],
   "source": [
    "c"
   ]
  },
  {
   "cell_type": "code",
   "execution_count": 75,
   "id": "e263ce98",
   "metadata": {},
   "outputs": [
    {
     "name": "stdout",
     "output_type": "stream",
     "text": [
      "The object has been intialize\n"
     ]
    }
   ],
   "source": [
    "print(c)"
   ]
  },
  {
   "cell_type": "code",
   "execution_count": null,
   "id": "3eb975fd",
   "metadata": {},
   "outputs": [],
   "source": []
  }
 ],
 "metadata": {
  "kernelspec": {
   "display_name": "Python 3 (ipykernel)",
   "language": "python",
   "name": "python3"
  },
  "language_info": {
   "codemirror_mode": {
    "name": "ipython",
    "version": 3
   },
   "file_extension": ".py",
   "mimetype": "text/x-python",
   "name": "python",
   "nbconvert_exporter": "python",
   "pygments_lexer": "ipython3",
   "version": "3.10.9"
  }
 },
 "nbformat": 4,
 "nbformat_minor": 5
}

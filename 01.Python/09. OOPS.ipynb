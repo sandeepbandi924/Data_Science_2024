{
 "cells": [
  {
   "cell_type": "markdown",
   "id": "130ce581",
   "metadata": {},
   "source": [
    "# OOPS\n",
    "- class\n",
    "- object\n",
    "- variables or methods"
   ]
  },
  {
   "cell_type": "code",
   "execution_count": 1,
   "id": "d7e3c4e1",
   "metadata": {},
   "outputs": [],
   "source": [
    "class Car:\n",
    "    pass"
   ]
  },
  {
   "cell_type": "code",
   "execution_count": 2,
   "id": "d4f13db2",
   "metadata": {},
   "outputs": [],
   "source": [
    "car1 = Car()   # obj = class name"
   ]
  },
  {
   "cell_type": "code",
   "execution_count": 3,
   "id": "00bc374f",
   "metadata": {},
   "outputs": [
    {
     "data": {
      "text/plain": [
       "<__main__.Car at 0x20d4b4a9930>"
      ]
     },
     "execution_count": 3,
     "metadata": {},
     "output_type": "execute_result"
    }
   ],
   "source": [
    "car1"
   ]
  },
  {
   "cell_type": "code",
   "execution_count": 4,
   "id": "a399ccf8",
   "metadata": {},
   "outputs": [],
   "source": [
    "car1.windows = 5\n",
    "car1.doors = 4"
   ]
  },
  {
   "cell_type": "code",
   "execution_count": 5,
   "id": "1216be11",
   "metadata": {},
   "outputs": [
    {
     "name": "stdout",
     "output_type": "stream",
     "text": [
      "5\n"
     ]
    }
   ],
   "source": [
    "print(car1.windows)"
   ]
  },
  {
   "cell_type": "code",
   "execution_count": 6,
   "id": "8837328b",
   "metadata": {},
   "outputs": [],
   "source": [
    "car2 = Car()"
   ]
  },
  {
   "cell_type": "code",
   "execution_count": 7,
   "id": "03bfd28b",
   "metadata": {},
   "outputs": [],
   "source": [
    "car2.windows = 3\n",
    "car2.doors=2"
   ]
  },
  {
   "cell_type": "code",
   "execution_count": 9,
   "id": "bb916718",
   "metadata": {},
   "outputs": [
    {
     "name": "stdout",
     "output_type": "stream",
     "text": [
      "3\n"
     ]
    }
   ],
   "source": [
    "print(car2.windows)"
   ]
  },
  {
   "cell_type": "code",
   "execution_count": 10,
   "id": "a6acfbfd",
   "metadata": {},
   "outputs": [],
   "source": [
    "car2.enginetype='petrol'"
   ]
  },
  {
   "cell_type": "code",
   "execution_count": 11,
   "id": "068f435b",
   "metadata": {},
   "outputs": [
    {
     "name": "stdout",
     "output_type": "stream",
     "text": [
      "petrol\n"
     ]
    }
   ],
   "source": [
    "print(car2.enginetype)"
   ]
  },
  {
   "cell_type": "code",
   "execution_count": null,
   "id": "db0912c9",
   "metadata": {},
   "outputs": [],
   "source": []
  },
  {
   "cell_type": "code",
   "execution_count": 30,
   "id": "b9d20181",
   "metadata": {},
   "outputs": [],
   "source": [
    "class Car:\n",
    "    def __init__(self,window,door,enginetype):\n",
    "        self.windows = window\n",
    "        self.doors = door\n",
    "        self.enginetypes = enginetype\n",
    "        \n",
    "    def self_driving(self): #method\n",
    "        return f'This is a {self.enginetypes} car'"
   ]
  },
  {
   "cell_type": "code",
   "execution_count": 31,
   "id": "8b687562",
   "metadata": {},
   "outputs": [],
   "source": [
    "car1 = Car(4,5,'petrol')"
   ]
  },
  {
   "cell_type": "code",
   "execution_count": 32,
   "id": "4c056912",
   "metadata": {},
   "outputs": [
    {
     "data": {
      "text/plain": [
       "'This is a petrol car'"
      ]
     },
     "execution_count": 32,
     "metadata": {},
     "output_type": "execute_result"
    }
   ],
   "source": [
    "car1.self_driving()"
   ]
  },
  {
   "cell_type": "code",
   "execution_count": 15,
   "id": "9822d523",
   "metadata": {},
   "outputs": [],
   "source": [
    "car2 = Car(3,4,'Diesel')"
   ]
  },
  {
   "cell_type": "code",
   "execution_count": 16,
   "id": "3d7115bb",
   "metadata": {},
   "outputs": [
    {
     "name": "stdout",
     "output_type": "stream",
     "text": [
      "4\n"
     ]
    }
   ],
   "source": [
    "print(car1.windows)"
   ]
  },
  {
   "cell_type": "code",
   "execution_count": 17,
   "id": "a6c00bb0",
   "metadata": {},
   "outputs": [
    {
     "data": {
      "text/plain": [
       "4"
      ]
     },
     "execution_count": 17,
     "metadata": {},
     "output_type": "execute_result"
    }
   ],
   "source": [
    "car2.doors"
   ]
  },
  {
   "cell_type": "code",
   "execution_count": 18,
   "id": "84d29807",
   "metadata": {},
   "outputs": [
    {
     "data": {
      "text/plain": [
       "'Diesel'"
      ]
     },
     "execution_count": 18,
     "metadata": {},
     "output_type": "execute_result"
    }
   ],
   "source": [
    "car2.enginetypes"
   ]
  },
  {
   "cell_type": "markdown",
   "id": "8c748977",
   "metadata": {},
   "source": [
    "## Inheritance"
   ]
  },
  {
   "cell_type": "code",
   "execution_count": 52,
   "id": "0c3e0c6d",
   "metadata": {},
   "outputs": [],
   "source": [
    "#Blue print\n",
    "class Car:\n",
    "    def __init__(self,window,door,enginetype):\n",
    "        self.windows = window\n",
    "        self.doors = door\n",
    "        self.enginetype = enginetype\n",
    "        \n",
    "    def drive(self):\n",
    "        return 'The person drives the car'"
   ]
  },
  {
   "cell_type": "code",
   "execution_count": 53,
   "id": "3ac8ff0d",
   "metadata": {},
   "outputs": [],
   "source": [
    "car = Car(4,5,'diesel')"
   ]
  },
  {
   "cell_type": "code",
   "execution_count": 54,
   "id": "7fab410c",
   "metadata": {},
   "outputs": [
    {
     "data": {
      "text/plain": [
       "4"
      ]
     },
     "execution_count": 54,
     "metadata": {},
     "output_type": "execute_result"
    }
   ],
   "source": [
    "car.windows"
   ]
  },
  {
   "cell_type": "code",
   "execution_count": 55,
   "id": "1bd4e2f5",
   "metadata": {},
   "outputs": [
    {
     "data": {
      "text/plain": [
       "'The person drives the car'"
      ]
     },
     "execution_count": 55,
     "metadata": {},
     "output_type": "execute_result"
    }
   ],
   "source": [
    "car.drive()"
   ]
  },
  {
   "cell_type": "code",
   "execution_count": 56,
   "id": "395afb6b",
   "metadata": {},
   "outputs": [],
   "source": [
    "class audi(Car):\n",
    "    def __init__(self,window,door,enginetype,enableAi):\n",
    "        super().__init__(window,door,enginetype)\n",
    "        self.enableai = enableAi\n",
    "    def self_driving(self):\n",
    "        print('Audi supports self driving')"
   ]
  },
  {
   "cell_type": "code",
   "execution_count": 57,
   "id": "4a01f156",
   "metadata": {},
   "outputs": [],
   "source": [
    "audiQ7 = audi(5,5,'diesel',True)"
   ]
  },
  {
   "cell_type": "code",
   "execution_count": 58,
   "id": "01cf013d",
   "metadata": {},
   "outputs": [
    {
     "data": {
      "text/plain": [
       "5"
      ]
     },
     "execution_count": 58,
     "metadata": {},
     "output_type": "execute_result"
    }
   ],
   "source": [
    "audiQ7.windows"
   ]
  },
  {
   "cell_type": "code",
   "execution_count": 59,
   "id": "a602b41e",
   "metadata": {},
   "outputs": [
    {
     "data": {
      "text/plain": [
       "5"
      ]
     },
     "execution_count": 59,
     "metadata": {},
     "output_type": "execute_result"
    }
   ],
   "source": [
    "audiQ7.doors"
   ]
  },
  {
   "cell_type": "code",
   "execution_count": 60,
   "id": "51af4388",
   "metadata": {},
   "outputs": [
    {
     "name": "stdout",
     "output_type": "stream",
     "text": [
      "Audi supports self driving\n"
     ]
    }
   ],
   "source": [
    "audiQ7.self_driving()"
   ]
  },
  {
   "cell_type": "code",
   "execution_count": 61,
   "id": "ae0af371",
   "metadata": {},
   "outputs": [
    {
     "data": {
      "text/plain": [
       "'The person drives the car'"
      ]
     },
     "execution_count": 61,
     "metadata": {},
     "output_type": "execute_result"
    }
   ],
   "source": [
    "audiQ7.drive()"
   ]
  },
  {
   "cell_type": "code",
   "execution_count": null,
   "id": "f8594261",
   "metadata": {},
   "outputs": [],
   "source": []
  },
  {
   "cell_type": "markdown",
   "id": "f668963f",
   "metadata": {},
   "source": [
    "# OOPS - Magic Methods "
   ]
  },
  {
   "cell_type": "code",
   "execution_count": 71,
   "id": "21ca5330",
   "metadata": {},
   "outputs": [],
   "source": [
    "class Car:\n",
    "    def __init__(self,window,door,enginetype):\n",
    "        self.windows = window\n",
    "        self.doors = door\n",
    "        self.enginetype = enginetype\n",
    "    def __str__(self):\n",
    "        return \"The object has been intialize\"\n",
    "    def drive(self):\n",
    "        return 'The person drives the car'"
   ]
  },
  {
   "cell_type": "code",
   "execution_count": 72,
   "id": "22dcdba9",
   "metadata": {},
   "outputs": [],
   "source": [
    "c = Car(4,5,'Diesel')"
   ]
  },
  {
   "cell_type": "code",
   "execution_count": 73,
   "id": "251fb7fd",
   "metadata": {},
   "outputs": [
    {
     "data": {
      "text/plain": [
       "<__main__.Car at 0x20d4b429810>"
      ]
     },
     "execution_count": 73,
     "metadata": {},
     "output_type": "execute_result"
    }
   ],
   "source": [
    "c"
   ]
  },
  {
   "cell_type": "code",
   "execution_count": 75,
   "id": "e263ce98",
   "metadata": {},
   "outputs": [
    {
     "name": "stdout",
     "output_type": "stream",
     "text": [
      "The object has been intialize\n"
     ]
    }
   ],
   "source": [
    "print(c)"
   ]
  },
  {
   "cell_type": "markdown",
   "id": "36f83ed0",
   "metadata": {},
   "source": [
    "\n",
    "## Access Modifiers - Public,private,protected"
   ]
  },
  {
   "cell_type": "code",
   "execution_count": 12,
   "id": "e5de2970",
   "metadata": {},
   "outputs": [],
   "source": [
    "class Car():\n",
    "    def __init__(self,window,door,enginetype):\n",
    "        self.windows = window\n",
    "        self.doors = door\n",
    "        self.enginetype = enginetype"
   ]
  },
  {
   "cell_type": "code",
   "execution_count": 13,
   "id": "a7cbe4e2",
   "metadata": {},
   "outputs": [],
   "source": [
    "audi = Car(4,5,'petrol')"
   ]
  },
  {
   "cell_type": "code",
   "execution_count": 14,
   "id": "8c9d97b2",
   "metadata": {},
   "outputs": [
    {
     "data": {
      "text/plain": [
       "<__main__.Car at 0x166fba8e8c0>"
      ]
     },
     "execution_count": 14,
     "metadata": {},
     "output_type": "execute_result"
    }
   ],
   "source": [
    "audi"
   ]
  },
  {
   "cell_type": "code",
   "execution_count": 15,
   "id": "63c60cf7",
   "metadata": {},
   "outputs": [
    {
     "data": {
      "text/plain": [
       "['__class__',\n",
       " '__delattr__',\n",
       " '__dict__',\n",
       " '__dir__',\n",
       " '__doc__',\n",
       " '__eq__',\n",
       " '__format__',\n",
       " '__ge__',\n",
       " '__getattribute__',\n",
       " '__gt__',\n",
       " '__hash__',\n",
       " '__init__',\n",
       " '__init_subclass__',\n",
       " '__le__',\n",
       " '__lt__',\n",
       " '__module__',\n",
       " '__ne__',\n",
       " '__new__',\n",
       " '__reduce__',\n",
       " '__reduce_ex__',\n",
       " '__repr__',\n",
       " '__setattr__',\n",
       " '__sizeof__',\n",
       " '__str__',\n",
       " '__subclasshook__',\n",
       " '__weakref__',\n",
       " 'doors',\n",
       " 'enginetype',\n",
       " 'windows']"
      ]
     },
     "execution_count": 15,
     "metadata": {},
     "output_type": "execute_result"
    }
   ],
   "source": [
    "dir(audi)"
   ]
  },
  {
   "cell_type": "code",
   "execution_count": 16,
   "id": "9597b485",
   "metadata": {},
   "outputs": [],
   "source": [
    "audi.windows = 6"
   ]
  },
  {
   "cell_type": "code",
   "execution_count": 18,
   "id": "a36d643e",
   "metadata": {},
   "outputs": [
    {
     "data": {
      "text/plain": [
       "6"
      ]
     },
     "execution_count": 18,
     "metadata": {},
     "output_type": "execute_result"
    }
   ],
   "source": [
    "audi.windows"
   ]
  },
  {
   "cell_type": "code",
   "execution_count": null,
   "id": "20d78dff",
   "metadata": {},
   "outputs": [],
   "source": []
  },
  {
   "cell_type": "code",
   "execution_count": null,
   "id": "47552b64",
   "metadata": {},
   "outputs": [],
   "source": []
  },
  {
   "cell_type": "code",
   "execution_count": 19,
   "id": "3f51443c",
   "metadata": {},
   "outputs": [],
   "source": [
    "#All car variables are protected\n",
    "class Car():\n",
    "    def __init__(self,window,door,enginetype):\n",
    "        self._windows = window\n",
    "        self._doors = door\n",
    "        self._enginetype = enginetype"
   ]
  },
  {
   "cell_type": "code",
   "execution_count": 22,
   "id": "973ea2a5",
   "metadata": {},
   "outputs": [],
   "source": [
    "class Truck(Car):\n",
    "    def __init__(self,window,door,enginetype,horsepower):\n",
    "        super().__init__(window,door,enginetype)\n",
    "        self.horsepower=horsepower"
   ]
  },
  {
   "cell_type": "code",
   "execution_count": 24,
   "id": "b6690efa",
   "metadata": {},
   "outputs": [],
   "source": [
    "truck = Truck(4,5,'petrol',4000)"
   ]
  },
  {
   "cell_type": "code",
   "execution_count": 25,
   "id": "654fb9f5",
   "metadata": {},
   "outputs": [
    {
     "data": {
      "text/plain": [
       "['__annotations__',\n",
       " '__class__',\n",
       " '__delattr__',\n",
       " '__dict__',\n",
       " '__dir__',\n",
       " '__doc__',\n",
       " '__eq__',\n",
       " '__format__',\n",
       " '__ge__',\n",
       " '__getattribute__',\n",
       " '__gt__',\n",
       " '__hash__',\n",
       " '__init__',\n",
       " '__init_subclass__',\n",
       " '__le__',\n",
       " '__lt__',\n",
       " '__module__',\n",
       " '__ne__',\n",
       " '__new__',\n",
       " '__reduce__',\n",
       " '__reduce_ex__',\n",
       " '__repr__',\n",
       " '__setattr__',\n",
       " '__sizeof__',\n",
       " '__str__',\n",
       " '__subclasshook__',\n",
       " '__weakref__',\n",
       " '_doors',\n",
       " '_enginetype',\n",
       " '_windows',\n",
       " 'horsepower']"
      ]
     },
     "execution_count": 25,
     "metadata": {},
     "output_type": "execute_result"
    }
   ],
   "source": [
    "dir(truck)"
   ]
  },
  {
   "cell_type": "code",
   "execution_count": 26,
   "id": "044aab49",
   "metadata": {},
   "outputs": [],
   "source": [
    "truck.doors = 6"
   ]
  },
  {
   "cell_type": "code",
   "execution_count": 28,
   "id": "c35e049d",
   "metadata": {},
   "outputs": [
    {
     "data": {
      "text/plain": [
       "6"
      ]
     },
     "execution_count": 28,
     "metadata": {},
     "output_type": "execute_result"
    }
   ],
   "source": [
    "truck.doors # we can override only in sub class"
   ]
  },
  {
   "cell_type": "code",
   "execution_count": 20,
   "id": "05af1b90",
   "metadata": {},
   "outputs": [],
   "source": [
    "audi = Car(4,5,'Deisel')"
   ]
  },
  {
   "cell_type": "code",
   "execution_count": 21,
   "id": "788e99e8",
   "metadata": {},
   "outputs": [
    {
     "data": {
      "text/plain": [
       "['__class__',\n",
       " '__delattr__',\n",
       " '__dict__',\n",
       " '__dir__',\n",
       " '__doc__',\n",
       " '__eq__',\n",
       " '__format__',\n",
       " '__ge__',\n",
       " '__getattribute__',\n",
       " '__gt__',\n",
       " '__hash__',\n",
       " '__init__',\n",
       " '__init_subclass__',\n",
       " '__le__',\n",
       " '__lt__',\n",
       " '__module__',\n",
       " '__ne__',\n",
       " '__new__',\n",
       " '__reduce__',\n",
       " '__reduce_ex__',\n",
       " '__repr__',\n",
       " '__setattr__',\n",
       " '__sizeof__',\n",
       " '__str__',\n",
       " '__subclasshook__',\n",
       " '__weakref__',\n",
       " '_doors',\n",
       " '_enginetype',\n",
       " '_windows']"
      ]
     },
     "execution_count": 21,
     "metadata": {},
     "output_type": "execute_result"
    }
   ],
   "source": [
    "dir(audi)"
   ]
  },
  {
   "cell_type": "code",
   "execution_count": null,
   "id": "bb2a5397",
   "metadata": {},
   "outputs": [],
   "source": []
  },
  {
   "cell_type": "code",
   "execution_count": 29,
   "id": "38d3d4ef",
   "metadata": {},
   "outputs": [],
   "source": [
    "# Private\n",
    "\n",
    "class Car():\n",
    "    def __init__(self,window,door,enginetype):\n",
    "        self.__windows = window\n",
    "        self.__doors = door\n",
    "        self.__enginetype = enginetype"
   ]
  },
  {
   "cell_type": "code",
   "execution_count": 30,
   "id": "01298870",
   "metadata": {},
   "outputs": [],
   "source": [
    "audi=Car(4,5,'petrol')"
   ]
  },
  {
   "cell_type": "code",
   "execution_count": 31,
   "id": "22a9f160",
   "metadata": {},
   "outputs": [
    {
     "data": {
      "text/plain": [
       "['_Car__doors',\n",
       " '_Car__enginetype',\n",
       " '_Car__windows',\n",
       " '__class__',\n",
       " '__delattr__',\n",
       " '__dict__',\n",
       " '__dir__',\n",
       " '__doc__',\n",
       " '__eq__',\n",
       " '__format__',\n",
       " '__ge__',\n",
       " '__getattribute__',\n",
       " '__gt__',\n",
       " '__hash__',\n",
       " '__init__',\n",
       " '__init_subclass__',\n",
       " '__le__',\n",
       " '__lt__',\n",
       " '__module__',\n",
       " '__ne__',\n",
       " '__new__',\n",
       " '__reduce__',\n",
       " '__reduce_ex__',\n",
       " '__repr__',\n",
       " '__setattr__',\n",
       " '__sizeof__',\n",
       " '__str__',\n",
       " '__subclasshook__',\n",
       " '__weakref__']"
      ]
     },
     "execution_count": 31,
     "metadata": {},
     "output_type": "execute_result"
    }
   ],
   "source": [
    "dir(audi)"
   ]
  },
  {
   "cell_type": "code",
   "execution_count": 32,
   "id": "4cb62e2c",
   "metadata": {},
   "outputs": [],
   "source": [
    "audi._Car__doors = 6 #hint to change"
   ]
  },
  {
   "cell_type": "code",
   "execution_count": 33,
   "id": "9b349e46",
   "metadata": {},
   "outputs": [
    {
     "data": {
      "text/plain": [
       "6"
      ]
     },
     "execution_count": 33,
     "metadata": {},
     "output_type": "execute_result"
    }
   ],
   "source": [
    "audi._Car__doors"
   ]
  },
  {
   "cell_type": "code",
   "execution_count": 34,
   "id": "a3b7036a",
   "metadata": {},
   "outputs": [],
   "source": [
    "\n",
    "# cAN WE HAVE MULTIPLE CONSTRUCTORS\n",
    "\n",
    "class Animal:\n",
    "    def __init__(self,name,species):\n",
    "        self.name=name\n",
    "        self.species=species\n",
    "    def __init__(self,name,species,age):\n",
    "        self.name=name\n",
    "        self.species=species\n",
    "        self.age=age\n",
    "        \n",
    "    def make_sound(self,sound):\n",
    "        return f'The animal is {self.name} and says {self.sound}'"
   ]
  },
  {
   "cell_type": "code",
   "execution_count": 35,
   "id": "4c653c1f",
   "metadata": {},
   "outputs": [
    {
     "ename": "TypeError",
     "evalue": "Animal.__init__() missing 1 required positional argument: 'age'",
     "output_type": "error",
     "traceback": [
      "\u001b[1;31m---------------------------------------------------------------------------\u001b[0m",
      "\u001b[1;31mTypeError\u001b[0m                                 Traceback (most recent call last)",
      "Cell \u001b[1;32mIn[35], line 1\u001b[0m\n\u001b[1;32m----> 1\u001b[0m dog \u001b[38;5;241m=\u001b[39m \u001b[43mAnimal\u001b[49m\u001b[43m(\u001b[49m\u001b[38;5;124;43m'\u001b[39;49m\u001b[38;5;124;43mdog\u001b[39;49m\u001b[38;5;124;43m'\u001b[39;49m\u001b[43m,\u001b[49m\u001b[38;5;124;43m'\u001b[39;49m\u001b[38;5;124;43mmammal\u001b[39;49m\u001b[38;5;124;43m'\u001b[39;49m\u001b[43m)\u001b[49m\n",
      "\u001b[1;31mTypeError\u001b[0m: Animal.__init__() missing 1 required positional argument: 'age'"
     ]
    }
   ],
   "source": [
    "dog = Animal('dog','mammal')"
   ]
  },
  {
   "cell_type": "code",
   "execution_count": 36,
   "id": "a8727447",
   "metadata": {},
   "outputs": [],
   "source": [
    "dog = Animal('dog','mammal',15)"
   ]
  },
  {
   "cell_type": "code",
   "execution_count": 37,
   "id": "fc4cec78",
   "metadata": {},
   "outputs": [
    {
     "data": {
      "text/plain": [
       "15"
      ]
     },
     "execution_count": 37,
     "metadata": {},
     "output_type": "execute_result"
    }
   ],
   "source": [
    "dog.age"
   ]
  },
  {
   "cell_type": "code",
   "execution_count": 46,
   "id": "1c28860e",
   "metadata": {},
   "outputs": [],
   "source": [
    "# \n",
    "class Animal:\n",
    "    def __init__(self,*args):\n",
    "        if len(args)==1:\n",
    "            self.name=args[0]\n",
    "        elif len(args) == 2:\n",
    "            self.name=args[0]\n",
    "            self.species=args[1]\n",
    "        elif len(args)==3:\n",
    "            self.name=args[0]\n",
    "            self.species=args[1]\n",
    "            self.age=args[2]\n",
    "        \n",
    "    def make_sound(self,sound):\n",
    "        return f'The animal is {self.name} and says {self.sound}'"
   ]
  },
  {
   "cell_type": "code",
   "execution_count": 47,
   "id": "ec426b0d",
   "metadata": {},
   "outputs": [],
   "source": [
    "dog=Animal('dog','mammal',15)"
   ]
  },
  {
   "cell_type": "code",
   "execution_count": 48,
   "id": "0cae1b00",
   "metadata": {},
   "outputs": [
    {
     "data": {
      "text/plain": [
       "15"
      ]
     },
     "execution_count": 48,
     "metadata": {},
     "output_type": "execute_result"
    }
   ],
   "source": [
    "dog.age"
   ]
  },
  {
   "cell_type": "code",
   "execution_count": null,
   "id": "8eb06c8d",
   "metadata": {},
   "outputs": [],
   "source": []
  }
 ],
 "metadata": {
  "kernelspec": {
   "display_name": "Python 3 (ipykernel)",
   "language": "python",
   "name": "python3"
  },
  "language_info": {
   "codemirror_mode": {
    "name": "ipython",
    "version": 3
   },
   "file_extension": ".py",
   "mimetype": "text/x-python",
   "name": "python",
   "nbconvert_exporter": "python",
   "pygments_lexer": "ipython3",
   "version": "3.10.9"
  }
 },
 "nbformat": 4,
 "nbformat_minor": 5
}

{
 "cells": [
  {
   "cell_type": "markdown",
   "id": "26e5abfb",
   "metadata": {},
   "source": [
    "# Generators VS Iterators"
   ]
  },
  {
   "cell_type": "code",
   "execution_count": 1,
   "id": "40d86840",
   "metadata": {},
   "outputs": [
    {
     "name": "stdout",
     "output_type": "stream",
     "text": [
      "1\n",
      "2\n",
      "3\n",
      "4\n"
     ]
    }
   ],
   "source": [
    "#Iterable\n",
    "lst = [1,2,3,4]\n",
    "for i in lst:\n",
    "    print(i)"
   ]
  },
  {
   "cell_type": "code",
   "execution_count": 4,
   "id": "38d7112c",
   "metadata": {},
   "outputs": [
    {
     "data": {
      "text/plain": [
       "<list_iterator at 0x16820cec640>"
      ]
     },
     "execution_count": 4,
     "metadata": {},
     "output_type": "execute_result"
    }
   ],
   "source": [
    "#iterator\n",
    "\n",
    "iterable = iter(lst)\n",
    "iterable"
   ]
  },
  {
   "cell_type": "code",
   "execution_count": null,
   "id": "6c5a5f42",
   "metadata": {},
   "outputs": [],
   "source": []
  },
  {
   "cell_type": "code",
   "execution_count": 5,
   "id": "8e48587b",
   "metadata": {},
   "outputs": [
    {
     "data": {
      "text/plain": [
       "1"
      ]
     },
     "execution_count": 5,
     "metadata": {},
     "output_type": "execute_result"
    }
   ],
   "source": [
    "next(iterable)"
   ]
  },
  {
   "cell_type": "code",
   "execution_count": 6,
   "id": "01afe634",
   "metadata": {},
   "outputs": [
    {
     "data": {
      "text/plain": [
       "2"
      ]
     },
     "execution_count": 6,
     "metadata": {},
     "output_type": "execute_result"
    }
   ],
   "source": [
    "next(iterable)"
   ]
  },
  {
   "cell_type": "code",
   "execution_count": 7,
   "id": "082fd73e",
   "metadata": {},
   "outputs": [
    {
     "name": "stdout",
     "output_type": "stream",
     "text": [
      "3\n",
      "4\n"
     ]
    }
   ],
   "source": [
    "for i in iterable:\n",
    "    print(i)"
   ]
  },
  {
   "cell_type": "code",
   "execution_count": 8,
   "id": "a1666d7f",
   "metadata": {},
   "outputs": [
    {
     "name": "stdout",
     "output_type": "stream",
     "text": [
      "The iterator is empty\n"
     ]
    }
   ],
   "source": [
    "try:\n",
    "    print(next(iterable))\n",
    "except StopIteration:\n",
    "    print('The iterator is empty')"
   ]
  },
  {
   "cell_type": "code",
   "execution_count": 9,
   "id": "9b47a0ba",
   "metadata": {},
   "outputs": [],
   "source": [
    "## Generator\n",
    "\n",
    "def square(n):\n",
    "    for i in range(n):\n",
    "        return i**2"
   ]
  },
  {
   "cell_type": "code",
   "execution_count": 10,
   "id": "622f584b",
   "metadata": {},
   "outputs": [
    {
     "data": {
      "text/plain": [
       "0"
      ]
     },
     "execution_count": 10,
     "metadata": {},
     "output_type": "execute_result"
    }
   ],
   "source": [
    "square(3)"
   ]
  },
  {
   "cell_type": "code",
   "execution_count": 11,
   "id": "44fbac82",
   "metadata": {},
   "outputs": [],
   "source": [
    "def square(n):\n",
    "    for i in range(n):\n",
    "        yield i**2"
   ]
  },
  {
   "cell_type": "code",
   "execution_count": 12,
   "id": "778e37e3",
   "metadata": {},
   "outputs": [
    {
     "data": {
      "text/plain": [
       "<generator object square at 0x000001682234BBC0>"
      ]
     },
     "execution_count": 12,
     "metadata": {},
     "output_type": "execute_result"
    }
   ],
   "source": [
    "square(3)"
   ]
  },
  {
   "cell_type": "code",
   "execution_count": 13,
   "id": "7023d7ea",
   "metadata": {},
   "outputs": [
    {
     "name": "stdout",
     "output_type": "stream",
     "text": [
      "0\n",
      "1\n",
      "4\n"
     ]
    }
   ],
   "source": [
    "for i in square(3):\n",
    "    print(i)"
   ]
  },
  {
   "cell_type": "markdown",
   "id": "ca670184",
   "metadata": {},
   "source": [
    "## Difference\n",
    "1. To create a iterator we use iter function and to generator we use function and yield keyword.\n",
    "2. Generator uses yield keyword and it saves the local variable.\n",
    "3. generator in python helps us top write and compact code.\n",
    "4. python iterator is much more memory efficient."
   ]
  },
  {
   "cell_type": "code",
   "execution_count": 14,
   "id": "fa072eb2",
   "metadata": {},
   "outputs": [],
   "source": [
    "import types, collections"
   ]
  },
  {
   "cell_type": "code",
   "execution_count": 16,
   "id": "7b47952b",
   "metadata": {},
   "outputs": [
    {
     "ename": "TypeError",
     "evalue": "issubclass expected 2 arguments, got 1",
     "output_type": "error",
     "traceback": [
      "\u001b[1;31m---------------------------------------------------------------------------\u001b[0m",
      "\u001b[1;31mTypeError\u001b[0m                                 Traceback (most recent call last)",
      "Cell \u001b[1;32mIn[16], line 1\u001b[0m\n\u001b[1;32m----> 1\u001b[0m \u001b[38;5;28;43missubclass\u001b[39;49m\u001b[43m(\u001b[49m\u001b[43mtypes\u001b[49m\u001b[38;5;241;43m.\u001b[39;49m\u001b[43mGeneratorType\u001b[49m\u001b[43m)\u001b[49m\n",
      "\u001b[1;31mTypeError\u001b[0m: issubclass expected 2 arguments, got 1"
     ]
    }
   ],
   "source": [
    "issubclass(types.GeneratorType)"
   ]
  },
  {
   "cell_type": "code",
   "execution_count": null,
   "id": "22ae14b6",
   "metadata": {},
   "outputs": [],
   "source": []
  }
 ],
 "metadata": {
  "kernelspec": {
   "display_name": "Python 3 (ipykernel)",
   "language": "python",
   "name": "python3"
  },
  "language_info": {
   "codemirror_mode": {
    "name": "ipython",
    "version": 3
   },
   "file_extension": ".py",
   "mimetype": "text/x-python",
   "name": "python",
   "nbconvert_exporter": "python",
   "pygments_lexer": "ipython3",
   "version": "3.10.9"
  }
 },
 "nbformat": 4,
 "nbformat_minor": 5
}

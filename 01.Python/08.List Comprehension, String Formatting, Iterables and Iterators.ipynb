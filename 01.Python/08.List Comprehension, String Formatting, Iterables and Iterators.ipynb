{
 "cells": [
  {
   "cell_type": "markdown",
   "id": "065795aa",
   "metadata": {},
   "source": [
    "## List Comprehension \n",
    "- Concise way to create list."
   ]
  },
  {
   "cell_type": "code",
   "execution_count": 6,
   "id": "33d834af",
   "metadata": {},
   "outputs": [
    {
     "data": {
      "text/plain": [
       "[1, 4, 9, 16, 25, 36, 49]"
      ]
     },
     "execution_count": 6,
     "metadata": {},
     "output_type": "execute_result"
    }
   ],
   "source": [
    "lst1=[]\n",
    "def lst_square(lst):\n",
    "    for i in lst:\n",
    "        lst1.append(i*i)\n",
    "    return lst1\n",
    "\n",
    "lst_square([1,2,3,4,5,6,7])"
   ]
  },
  {
   "cell_type": "code",
   "execution_count": 10,
   "id": "d78c5f57",
   "metadata": {},
   "outputs": [
    {
     "data": {
      "text/plain": [
       "[1, 4, 9, 16, 25, 36, 49]"
      ]
     },
     "execution_count": 10,
     "metadata": {},
     "output_type": "execute_result"
    }
   ],
   "source": [
    "#using list comprehension\n",
    "\n",
    "lst = [1,2,3,4,5,6,7]\n",
    "\n",
    "[i**2 for i in lst]"
   ]
  },
  {
   "cell_type": "code",
   "execution_count": 11,
   "id": "79e80b0c",
   "metadata": {},
   "outputs": [
    {
     "data": {
      "text/plain": [
       "[4, 16, 36]"
      ]
     },
     "execution_count": 11,
     "metadata": {},
     "output_type": "execute_result"
    }
   ],
   "source": [
    "# square of even numbers\n",
    "\n",
    "[i**2 for i in lst if i%2==0]"
   ]
  },
  {
   "cell_type": "code",
   "execution_count": 12,
   "id": "9a6be2ba",
   "metadata": {},
   "outputs": [
    {
     "data": {
      "text/plain": [
       "[1, 9, 25, 49]"
      ]
     },
     "execution_count": 12,
     "metadata": {},
     "output_type": "execute_result"
    }
   ],
   "source": [
    "# sqaure of Odd numbers\n",
    "\n",
    "[i**2 for i in lst if i%2!=0]"
   ]
  },
  {
   "cell_type": "code",
   "execution_count": null,
   "id": "6193dc3a",
   "metadata": {},
   "outputs": [],
   "source": []
  },
  {
   "cell_type": "markdown",
   "id": "c3495792",
   "metadata": {},
   "source": [
    "# String Formatting"
   ]
  },
  {
   "cell_type": "code",
   "execution_count": 13,
   "id": "4ccb6225",
   "metadata": {},
   "outputs": [
    {
     "name": "stdout",
     "output_type": "stream",
     "text": [
      "Hello everyone\n"
     ]
    }
   ],
   "source": [
    "print('Hello everyone')"
   ]
  },
  {
   "cell_type": "code",
   "execution_count": 14,
   "id": "4cba2722",
   "metadata": {},
   "outputs": [],
   "source": [
    "strs = 'Hello Everyone'"
   ]
  },
  {
   "cell_type": "code",
   "execution_count": 15,
   "id": "106d01cd",
   "metadata": {},
   "outputs": [
    {
     "data": {
      "text/plain": [
       "'Hello Sandeep. welocme to python'"
      ]
     },
     "execution_count": 15,
     "metadata": {},
     "output_type": "execute_result"
    }
   ],
   "source": [
    "def greeting(name):\n",
    "    return 'Hello {}. welocme to python'.format(name)\n",
    "\n",
    "greeting('Sandeep')"
   ]
  },
  {
   "cell_type": "code",
   "execution_count": 18,
   "id": "d20e0777",
   "metadata": {},
   "outputs": [
    {
     "data": {
      "text/plain": [
       "'Welcome Sandeep. Your age is 25'"
      ]
     },
     "execution_count": 18,
     "metadata": {},
     "output_type": "execute_result"
    }
   ],
   "source": [
    "def welcome_email(first_name,age):\n",
    "    return 'Welcome {}. Your age is {}'.format(first_name,age)\n",
    "\n",
    "welcome_email('Sandeep',25)"
   ]
  },
  {
   "cell_type": "code",
   "execution_count": 21,
   "id": "4771a638",
   "metadata": {},
   "outputs": [
    {
     "data": {
      "text/plain": [
       "'Hello Sandeep. Your age is 25'"
      ]
     },
     "execution_count": 21,
     "metadata": {},
     "output_type": "execute_result"
    }
   ],
   "source": [
    "# smarter way of using fstring\n",
    "\n",
    "def hello(name,age):\n",
    "    return f'Hello {name}. Your age is {age}' \n",
    "hello('Sandeep',25)"
   ]
  },
  {
   "cell_type": "code",
   "execution_count": null,
   "id": "05cef4f9",
   "metadata": {},
   "outputs": [],
   "source": []
  },
  {
   "cell_type": "markdown",
   "id": "3b1f98b3",
   "metadata": {},
   "source": [
    "# List Iterables VS Iterators"
   ]
  },
  {
   "cell_type": "code",
   "execution_count": 23,
   "id": "6b083b42",
   "metadata": {},
   "outputs": [
    {
     "name": "stdout",
     "output_type": "stream",
     "text": [
      "1\n",
      "2\n",
      "3\n",
      "4\n",
      "5\n"
     ]
    }
   ],
   "source": [
    "#list is iterable\n",
    "\n",
    "lst = [1,2,3,4,5]\n",
    "\n",
    "for i in lst:\n",
    "    print(i)"
   ]
  },
  {
   "cell_type": "code",
   "execution_count": 24,
   "id": "4238f5d6",
   "metadata": {},
   "outputs": [
    {
     "data": {
      "text/plain": [
       "<list_iterator at 0x289586326e0>"
      ]
     },
     "execution_count": 24,
     "metadata": {},
     "output_type": "execute_result"
    }
   ],
   "source": [
    "#iter -> convert lst into iterator\n",
    "\n",
    "iter(lst) "
   ]
  },
  {
   "cell_type": "code",
   "execution_count": 33,
   "id": "d7268b39",
   "metadata": {},
   "outputs": [
    {
     "data": {
      "text/plain": [
       "<list_iterator at 0x28958ae18a0>"
      ]
     },
     "execution_count": 33,
     "metadata": {},
     "output_type": "execute_result"
    }
   ],
   "source": [
    "a = iter(lst) \n",
    "a"
   ]
  },
  {
   "cell_type": "code",
   "execution_count": null,
   "id": "f8ab3522",
   "metadata": {},
   "outputs": [],
   "source": [
    "# still not allocated to memory once you use Next() funct the it will allocate"
   ]
  },
  {
   "cell_type": "code",
   "execution_count": 27,
   "id": "131b112b",
   "metadata": {},
   "outputs": [
    {
     "data": {
      "text/plain": [
       "1"
      ]
     },
     "execution_count": 27,
     "metadata": {},
     "output_type": "execute_result"
    }
   ],
   "source": [
    "next(a)"
   ]
  },
  {
   "cell_type": "code",
   "execution_count": 28,
   "id": "27319aaa",
   "metadata": {},
   "outputs": [
    {
     "data": {
      "text/plain": [
       "2"
      ]
     },
     "execution_count": 28,
     "metadata": {},
     "output_type": "execute_result"
    }
   ],
   "source": [
    "next(a)"
   ]
  },
  {
   "cell_type": "code",
   "execution_count": 29,
   "id": "fa084351",
   "metadata": {},
   "outputs": [
    {
     "data": {
      "text/plain": [
       "3"
      ]
     },
     "execution_count": 29,
     "metadata": {},
     "output_type": "execute_result"
    }
   ],
   "source": [
    "next(a)"
   ]
  },
  {
   "cell_type": "code",
   "execution_count": 30,
   "id": "5b9340a6",
   "metadata": {},
   "outputs": [
    {
     "data": {
      "text/plain": [
       "4"
      ]
     },
     "execution_count": 30,
     "metadata": {},
     "output_type": "execute_result"
    }
   ],
   "source": [
    "next(a)"
   ]
  },
  {
   "cell_type": "code",
   "execution_count": 31,
   "id": "b56f9f0b",
   "metadata": {},
   "outputs": [
    {
     "data": {
      "text/plain": [
       "5"
      ]
     },
     "execution_count": 31,
     "metadata": {},
     "output_type": "execute_result"
    }
   ],
   "source": [
    "next(a) #last element"
   ]
  },
  {
   "cell_type": "code",
   "execution_count": 32,
   "id": "b1bba3b6",
   "metadata": {},
   "outputs": [
    {
     "ename": "StopIteration",
     "evalue": "",
     "output_type": "error",
     "traceback": [
      "\u001b[1;31m---------------------------------------------------------------------------\u001b[0m",
      "\u001b[1;31mStopIteration\u001b[0m                             Traceback (most recent call last)",
      "Cell \u001b[1;32mIn[32], line 1\u001b[0m\n\u001b[1;32m----> 1\u001b[0m \u001b[38;5;28;43mnext\u001b[39;49m\u001b[43m(\u001b[49m\u001b[43ma\u001b[49m\u001b[43m)\u001b[49m\n",
      "\u001b[1;31mStopIteration\u001b[0m: "
     ]
    }
   ],
   "source": [
    "next(a) #stoping iteration"
   ]
  },
  {
   "cell_type": "code",
   "execution_count": null,
   "id": "8c2c125a",
   "metadata": {},
   "outputs": [],
   "source": []
  },
  {
   "cell_type": "code",
   "execution_count": 34,
   "id": "d2459e17",
   "metadata": {},
   "outputs": [
    {
     "name": "stdout",
     "output_type": "stream",
     "text": [
      "1\n",
      "2\n",
      "3\n",
      "4\n",
      "5\n"
     ]
    }
   ],
   "source": [
    "for i in a:\n",
    "    print(i)"
   ]
  },
  {
   "cell_type": "code",
   "execution_count": null,
   "id": "8833b30c",
   "metadata": {},
   "outputs": [],
   "source": []
  },
  {
   "cell_type": "markdown",
   "id": "b514a7a0",
   "metadata": {},
   "source": [
    "# Pyforest - Lazy - import of all python data science library\n",
    "- pyforest lazy-imports all popular python data science libraries so that they can always there when you need"
   ]
  },
  {
   "cell_type": "code",
   "execution_count": 39,
   "id": "fdb30100",
   "metadata": {},
   "outputs": [
    {
     "name": "stdout",
     "output_type": "stream",
     "text": [
      "Requirement already satisfied: pyforest in c:\\users\\admin\\appdata\\local\\anaconda3\\lib\\site-packages (1.1.0)\n"
     ]
    }
   ],
   "source": [
    "!pip install pyforest"
   ]
  },
  {
   "cell_type": "code",
   "execution_count": null,
   "id": "bdf0f49d",
   "metadata": {},
   "outputs": [],
   "source": []
  }
 ],
 "metadata": {
  "kernelspec": {
   "display_name": "Python 3 (ipykernel)",
   "language": "python",
   "name": "python3"
  },
  "language_info": {
   "codemirror_mode": {
    "name": "ipython",
    "version": 3
   },
   "file_extension": ".py",
   "mimetype": "text/x-python",
   "name": "python",
   "nbconvert_exporter": "python",
   "pygments_lexer": "ipython3",
   "version": "3.10.9"
  }
 },
 "nbformat": 4,
 "nbformat_minor": 5
}

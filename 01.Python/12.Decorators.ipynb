{
 "cells": [
  {
   "cell_type": "markdown",
   "id": "3ddd7d1b",
   "metadata": {},
   "source": [
    "# Decorators\n",
    "- function copy\n",
    "- closures\n",
    "- decorators\n"
   ]
  },
  {
   "cell_type": "code",
   "execution_count": 6,
   "id": "ca51f55f",
   "metadata": {},
   "outputs": [],
   "source": [
    "def welcome():\n",
    "    return 'Welcome to python'\n"
   ]
  },
  {
   "cell_type": "code",
   "execution_count": 7,
   "id": "a1f31d01",
   "metadata": {},
   "outputs": [],
   "source": [
    "wel = welcome() \n",
    "del welcome"
   ]
  },
  {
   "cell_type": "code",
   "execution_count": 9,
   "id": "ba1ca453",
   "metadata": {},
   "outputs": [
    {
     "data": {
      "text/plain": [
       "'Welcome to python'"
      ]
     },
     "execution_count": 9,
     "metadata": {},
     "output_type": "execute_result"
    }
   ],
   "source": [
    "wel   #function copy"
   ]
  },
  {
   "cell_type": "code",
   "execution_count": 14,
   "id": "7e48eb84",
   "metadata": {},
   "outputs": [],
   "source": [
    "## closures\n",
    "\n",
    "def main_welcome():\n",
    "    msg='Hello everyone'\n",
    "    def sub_welcome():\n",
    "        print('Welcome to sub function')\n",
    "        print(msg)\n",
    "        print('I am Sandeep Bandi')\n",
    "    return sub_welcome()"
   ]
  },
  {
   "cell_type": "code",
   "execution_count": 15,
   "id": "df62eb9f",
   "metadata": {},
   "outputs": [
    {
     "name": "stdout",
     "output_type": "stream",
     "text": [
      "Welcome to sub function\n",
      "Hello everyone\n",
      "I am Sandeep Bandi\n"
     ]
    }
   ],
   "source": [
    "main_welcome()"
   ]
  },
  {
   "cell_type": "code",
   "execution_count": 22,
   "id": "de3488e7",
   "metadata": {},
   "outputs": [],
   "source": [
    "#closures and initial Decorators\n",
    "\n",
    "def main_welcome(func):\n",
    "   \n",
    "    def sub_welcome():\n",
    "        print('Welcome to sub function')\n",
    "        func(\"Hello Python \")\n",
    "        print('I am Sandeep Bandi')\n",
    "    return sub_welcome()"
   ]
  },
  {
   "cell_type": "code",
   "execution_count": 23,
   "id": "319d838b",
   "metadata": {},
   "outputs": [
    {
     "name": "stdout",
     "output_type": "stream",
     "text": [
      "Welcome to sub function\n",
      "Hello Python \n",
      "I am Sandeep Bandi\n"
     ]
    }
   ],
   "source": [
    "main_welcome(print)"
   ]
  },
  {
   "cell_type": "code",
   "execution_count": 24,
   "id": "3a2f782a",
   "metadata": {},
   "outputs": [],
   "source": [
    "def main_welcome(func):\n",
    "   \n",
    "    def sub_welcome():\n",
    "        print('Welcome to sub function')\n",
    "        print(func([1,2,3,4,5,6]))\n",
    "        print('I am Sandeep Bandi')\n",
    "    return sub_welcome()"
   ]
  },
  {
   "cell_type": "code",
   "execution_count": 25,
   "id": "37eb8684",
   "metadata": {},
   "outputs": [
    {
     "name": "stdout",
     "output_type": "stream",
     "text": [
      "Welcome to sub function\n",
      "6\n",
      "I am Sandeep Bandi\n"
     ]
    }
   ],
   "source": [
    "main_welcome(len)"
   ]
  },
  {
   "cell_type": "code",
   "execution_count": null,
   "id": "2df33575",
   "metadata": {},
   "outputs": [],
   "source": []
  },
  {
   "cell_type": "code",
   "execution_count": 27,
   "id": "c46d9cf6",
   "metadata": {},
   "outputs": [],
   "source": [
    "#Decorators\n",
    "\n",
    "def main_welcome(func):\n",
    "   \n",
    "    def sub_welcome():\n",
    "        print('Welcome to sub function')\n",
    "        func()\n",
    "        print('I am Sandeep Bandi')\n",
    "    return sub_welcome()"
   ]
  },
  {
   "cell_type": "code",
   "execution_count": 28,
   "id": "ab9a2d35",
   "metadata": {},
   "outputs": [
    {
     "name": "stdout",
     "output_type": "stream",
     "text": [
      "Welcome to sub function\n",
      "This is Sandeep Channel\n",
      "I am Sandeep Bandi\n"
     ]
    }
   ],
   "source": [
    "@main_welcome\n",
    "def channel_name():\n",
    "    print('This is Sandeep Channel')"
   ]
  },
  {
   "cell_type": "code",
   "execution_count": null,
   "id": "dfb50eeb",
   "metadata": {},
   "outputs": [],
   "source": []
  },
  {
   "cell_type": "markdown",
   "id": "d02262d3",
   "metadata": {},
   "source": [
    "# IS Keyword\n",
    "- is   VS  =="
   ]
  },
  {
   "cell_type": "code",
   "execution_count": 32,
   "id": "c129ce2b",
   "metadata": {},
   "outputs": [
    {
     "data": {
      "text/plain": [
       "True"
      ]
     },
     "execution_count": 32,
     "metadata": {},
     "output_type": "execute_result"
    }
   ],
   "source": [
    "# is VS ==\n",
    "lst1 = ['san1','san2','san3']\n",
    "lst2 = ['san1','san2','san3']\n",
    "lst1 == lst2"
   ]
  },
  {
   "cell_type": "code",
   "execution_count": 34,
   "id": "4aebf76e",
   "metadata": {},
   "outputs": [
    {
     "data": {
      "text/plain": [
       "True"
      ]
     },
     "execution_count": 34,
     "metadata": {},
     "output_type": "execute_result"
    }
   ],
   "source": [
    "a = 'sandeep'\n",
    "b = 'sandeep'\n",
    "a == b"
   ]
  },
  {
   "cell_type": "code",
   "execution_count": 36,
   "id": "68187181",
   "metadata": {},
   "outputs": [
    {
     "data": {
      "text/plain": [
       "True"
      ]
     },
     "execution_count": 36,
     "metadata": {},
     "output_type": "execute_result"
    }
   ],
   "source": [
    "lst1 = ['san1','san2','san3']\n",
    "lst2 = lst1\n",
    "\n",
    "lst1 is lst2"
   ]
  },
  {
   "cell_type": "code",
   "execution_count": 37,
   "id": "5aba21e8",
   "metadata": {},
   "outputs": [
    {
     "data": {
      "text/plain": [
       "True"
      ]
     },
     "execution_count": 37,
     "metadata": {},
     "output_type": "execute_result"
    }
   ],
   "source": [
    "lst2 is lst1"
   ]
  },
  {
   "cell_type": "code",
   "execution_count": null,
   "id": "2907adcf",
   "metadata": {},
   "outputs": [],
   "source": [
    "# is keyword -> diffrent objects are not created only object but refered by both variables."
   ]
  },
  {
   "cell_type": "code",
   "execution_count": null,
   "id": "065c0491",
   "metadata": {},
   "outputs": [],
   "source": []
  }
 ],
 "metadata": {
  "kernelspec": {
   "display_name": "Python 3 (ipykernel)",
   "language": "python",
   "name": "python3"
  },
  "language_info": {
   "codemirror_mode": {
    "name": "ipython",
    "version": 3
   },
   "file_extension": ".py",
   "mimetype": "text/x-python",
   "name": "python",
   "nbconvert_exporter": "python",
   "pygments_lexer": "ipython3",
   "version": "3.10.9"
  }
 },
 "nbformat": 4,
 "nbformat_minor": 5
}

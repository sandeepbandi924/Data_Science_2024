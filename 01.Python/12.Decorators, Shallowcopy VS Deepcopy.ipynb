{
 "cells": [
  {
   "cell_type": "markdown",
   "id": "3ddd7d1b",
   "metadata": {},
   "source": [
    "# Decorators\n",
    "- function copy\n",
    "- closures\n",
    "- decorators\n"
   ]
  },
  {
   "cell_type": "code",
   "execution_count": 6,
   "id": "ca51f55f",
   "metadata": {},
   "outputs": [],
   "source": [
    "def welcome():\n",
    "    return 'Welcome to python'\n"
   ]
  },
  {
   "cell_type": "code",
   "execution_count": 7,
   "id": "a1f31d01",
   "metadata": {},
   "outputs": [],
   "source": [
    "wel = welcome() \n",
    "del welcome"
   ]
  },
  {
   "cell_type": "code",
   "execution_count": 9,
   "id": "ba1ca453",
   "metadata": {},
   "outputs": [
    {
     "data": {
      "text/plain": [
       "'Welcome to python'"
      ]
     },
     "execution_count": 9,
     "metadata": {},
     "output_type": "execute_result"
    }
   ],
   "source": [
    "wel   #function copy"
   ]
  },
  {
   "cell_type": "code",
   "execution_count": 14,
   "id": "7e48eb84",
   "metadata": {},
   "outputs": [],
   "source": [
    "## closures\n",
    "\n",
    "def main_welcome():\n",
    "    msg='Hello everyone'\n",
    "    def sub_welcome():\n",
    "        print('Welcome to sub function')\n",
    "        print(msg)\n",
    "        print('I am Sandeep Bandi')\n",
    "    return sub_welcome()"
   ]
  },
  {
   "cell_type": "code",
   "execution_count": 15,
   "id": "df62eb9f",
   "metadata": {},
   "outputs": [
    {
     "name": "stdout",
     "output_type": "stream",
     "text": [
      "Welcome to sub function\n",
      "Hello everyone\n",
      "I am Sandeep Bandi\n"
     ]
    }
   ],
   "source": [
    "main_welcome()"
   ]
  },
  {
   "cell_type": "code",
   "execution_count": 22,
   "id": "de3488e7",
   "metadata": {},
   "outputs": [],
   "source": [
    "#closures and initial Decorators\n",
    "\n",
    "def main_welcome(func):\n",
    "   \n",
    "    def sub_welcome():\n",
    "        print('Welcome to sub function')\n",
    "        func(\"Hello Python \")\n",
    "        print('I am Sandeep Bandi')\n",
    "    return sub_welcome()"
   ]
  },
  {
   "cell_type": "code",
   "execution_count": 23,
   "id": "319d838b",
   "metadata": {},
   "outputs": [
    {
     "name": "stdout",
     "output_type": "stream",
     "text": [
      "Welcome to sub function\n",
      "Hello Python \n",
      "I am Sandeep Bandi\n"
     ]
    }
   ],
   "source": [
    "main_welcome(print)"
   ]
  },
  {
   "cell_type": "code",
   "execution_count": 24,
   "id": "3a2f782a",
   "metadata": {},
   "outputs": [],
   "source": [
    "def main_welcome(func):\n",
    "   \n",
    "    def sub_welcome():\n",
    "        print('Welcome to sub function')\n",
    "        print(func([1,2,3,4,5,6]))\n",
    "        print('I am Sandeep Bandi')\n",
    "    return sub_welcome()"
   ]
  },
  {
   "cell_type": "code",
   "execution_count": 25,
   "id": "37eb8684",
   "metadata": {},
   "outputs": [
    {
     "name": "stdout",
     "output_type": "stream",
     "text": [
      "Welcome to sub function\n",
      "6\n",
      "I am Sandeep Bandi\n"
     ]
    }
   ],
   "source": [
    "main_welcome(len)"
   ]
  },
  {
   "cell_type": "code",
   "execution_count": null,
   "id": "2df33575",
   "metadata": {},
   "outputs": [],
   "source": []
  },
  {
   "cell_type": "code",
   "execution_count": 27,
   "id": "c46d9cf6",
   "metadata": {},
   "outputs": [],
   "source": [
    "#Decorators\n",
    "\n",
    "def main_welcome(func):\n",
    "   \n",
    "    def sub_welcome():\n",
    "        print('Welcome to sub function')\n",
    "        func()\n",
    "        print('I am Sandeep Bandi')\n",
    "    return sub_welcome()"
   ]
  },
  {
   "cell_type": "code",
   "execution_count": 28,
   "id": "ab9a2d35",
   "metadata": {},
   "outputs": [
    {
     "name": "stdout",
     "output_type": "stream",
     "text": [
      "Welcome to sub function\n",
      "This is Sandeep Channel\n",
      "I am Sandeep Bandi\n"
     ]
    }
   ],
   "source": [
    "@main_welcome\n",
    "def channel_name():\n",
    "    print('This is Sandeep Channel')"
   ]
  },
  {
   "cell_type": "code",
   "execution_count": null,
   "id": "dfb50eeb",
   "metadata": {},
   "outputs": [],
   "source": []
  },
  {
   "cell_type": "markdown",
   "id": "d02262d3",
   "metadata": {},
   "source": [
    "# IS Keyword\n",
    "- is   VS  =="
   ]
  },
  {
   "cell_type": "code",
   "execution_count": 32,
   "id": "c129ce2b",
   "metadata": {},
   "outputs": [
    {
     "data": {
      "text/plain": [
       "True"
      ]
     },
     "execution_count": 32,
     "metadata": {},
     "output_type": "execute_result"
    }
   ],
   "source": [
    "# is VS ==\n",
    "lst1 = ['san1','san2','san3']\n",
    "lst2 = ['san1','san2','san3']\n",
    "lst1 == lst2"
   ]
  },
  {
   "cell_type": "code",
   "execution_count": 34,
   "id": "4aebf76e",
   "metadata": {},
   "outputs": [
    {
     "data": {
      "text/plain": [
       "True"
      ]
     },
     "execution_count": 34,
     "metadata": {},
     "output_type": "execute_result"
    }
   ],
   "source": [
    "a = 'sandeep'\n",
    "b = 'sandeep'\n",
    "a == b"
   ]
  },
  {
   "cell_type": "code",
   "execution_count": 36,
   "id": "68187181",
   "metadata": {},
   "outputs": [
    {
     "data": {
      "text/plain": [
       "True"
      ]
     },
     "execution_count": 36,
     "metadata": {},
     "output_type": "execute_result"
    }
   ],
   "source": [
    "lst1 = ['san1','san2','san3']\n",
    "lst2 = lst1\n",
    "\n",
    "lst1 is lst2"
   ]
  },
  {
   "cell_type": "code",
   "execution_count": 37,
   "id": "5aba21e8",
   "metadata": {},
   "outputs": [
    {
     "data": {
      "text/plain": [
       "True"
      ]
     },
     "execution_count": 37,
     "metadata": {},
     "output_type": "execute_result"
    }
   ],
   "source": [
    "lst2 is lst1"
   ]
  },
  {
   "cell_type": "code",
   "execution_count": null,
   "id": "2907adcf",
   "metadata": {},
   "outputs": [],
   "source": [
    "# is keyword -> diffrent objects are not created only object but refered by both variables."
   ]
  },
  {
   "cell_type": "code",
   "execution_count": null,
   "id": "065c0491",
   "metadata": {},
   "outputs": [],
   "source": []
  },
  {
   "cell_type": "markdown",
   "id": "5bb1c990",
   "metadata": {},
   "source": [
    "## Shallow Copy VS Deep Copy\n",
    "- =\n",
    "- copy\n",
    "- deepcopy"
   ]
  },
  {
   "cell_type": "code",
   "execution_count": 1,
   "id": "8e50faec",
   "metadata": {},
   "outputs": [],
   "source": [
    "lst1 = [1,2,3,4]\n",
    "lst2 = lst1  #same memory loc"
   ]
  },
  {
   "cell_type": "code",
   "execution_count": 4,
   "id": "c0850b3f",
   "metadata": {},
   "outputs": [
    {
     "data": {
      "text/plain": [
       "([1, 2, 3, 4], [1, 2, 3, 4])"
      ]
     },
     "execution_count": 4,
     "metadata": {},
     "output_type": "execute_result"
    }
   ],
   "source": [
    "lst1, lst2"
   ]
  },
  {
   "cell_type": "code",
   "execution_count": 5,
   "id": "247a49ab",
   "metadata": {},
   "outputs": [
    {
     "data": {
      "text/plain": [
       "2"
      ]
     },
     "execution_count": 5,
     "metadata": {},
     "output_type": "execute_result"
    }
   ],
   "source": [
    "lst2[1]"
   ]
  },
  {
   "cell_type": "code",
   "execution_count": 6,
   "id": "3980b9fe",
   "metadata": {},
   "outputs": [],
   "source": [
    "lst2[1] = 100"
   ]
  },
  {
   "cell_type": "code",
   "execution_count": 7,
   "id": "a565e960",
   "metadata": {},
   "outputs": [
    {
     "data": {
      "text/plain": [
       "[1, 100, 3, 4]"
      ]
     },
     "execution_count": 7,
     "metadata": {},
     "output_type": "execute_result"
    }
   ],
   "source": [
    "lst2"
   ]
  },
  {
   "cell_type": "code",
   "execution_count": 8,
   "id": "595b5c2b",
   "metadata": {},
   "outputs": [
    {
     "data": {
      "text/plain": [
       "[1, 100, 3, 4]"
      ]
     },
     "execution_count": 8,
     "metadata": {},
     "output_type": "execute_result"
    }
   ],
   "source": [
    "lst1"
   ]
  },
  {
   "cell_type": "code",
   "execution_count": 9,
   "id": "c77a139b",
   "metadata": {},
   "outputs": [],
   "source": [
    "#copy\n",
    "#shallow copy\n",
    "lst1 = [1,2,3,4]\n",
    "lst2 = lst1.copy() #diff memeory loc"
   ]
  },
  {
   "cell_type": "code",
   "execution_count": 10,
   "id": "7317d0d6",
   "metadata": {},
   "outputs": [
    {
     "data": {
      "text/plain": [
       "([1, 2, 3, 4], [1, 2, 3, 4])"
      ]
     },
     "execution_count": 10,
     "metadata": {},
     "output_type": "execute_result"
    }
   ],
   "source": [
    "lst1,lst2"
   ]
  },
  {
   "cell_type": "code",
   "execution_count": 11,
   "id": "a7ddcbfa",
   "metadata": {},
   "outputs": [],
   "source": [
    "lst2[3]=1000"
   ]
  },
  {
   "cell_type": "code",
   "execution_count": 14,
   "id": "e2e26ec7",
   "metadata": {},
   "outputs": [
    {
     "data": {
      "text/plain": [
       "([1, 2, 3, 1000], [1, 2, 3, 4])"
      ]
     },
     "execution_count": 14,
     "metadata": {},
     "output_type": "execute_result"
    }
   ],
   "source": [
    "lst2,lst1"
   ]
  },
  {
   "cell_type": "code",
   "execution_count": 15,
   "id": "dd39b454",
   "metadata": {},
   "outputs": [],
   "source": [
    "#shallow copy with nested list\n",
    "lst1 = [[1,2,3,4],[5,6,7,8]]\n",
    "lst2 = lst1.copy()"
   ]
  },
  {
   "cell_type": "code",
   "execution_count": 17,
   "id": "121a504f",
   "metadata": {},
   "outputs": [],
   "source": [
    "lst2[1][0]=100 "
   ]
  },
  {
   "cell_type": "code",
   "execution_count": 18,
   "id": "ae5d5965",
   "metadata": {},
   "outputs": [
    {
     "data": {
      "text/plain": [
       "([[1, 2, 3, 4], [100, 6, 7, 8]], [[1, 2, 3, 4], [100, 6, 7, 8]])"
      ]
     },
     "execution_count": 18,
     "metadata": {},
     "output_type": "execute_result"
    }
   ],
   "source": [
    "lst1,lst2"
   ]
  },
  {
   "cell_type": "code",
   "execution_count": 19,
   "id": "7214f12b",
   "metadata": {},
   "outputs": [],
   "source": [
    "lst1.append([2,4,5,6])"
   ]
  },
  {
   "cell_type": "code",
   "execution_count": 20,
   "id": "f83f8bd1",
   "metadata": {},
   "outputs": [
    {
     "data": {
      "text/plain": [
       "[[1, 2, 3, 4], [100, 6, 7, 8], [2, 4, 5, 6]]"
      ]
     },
     "execution_count": 20,
     "metadata": {},
     "output_type": "execute_result"
    }
   ],
   "source": [
    "lst1"
   ]
  },
  {
   "cell_type": "code",
   "execution_count": 21,
   "id": "fb8954bd",
   "metadata": {},
   "outputs": [
    {
     "data": {
      "text/plain": [
       "[[1, 2, 3, 4], [100, 6, 7, 8]]"
      ]
     },
     "execution_count": 21,
     "metadata": {},
     "output_type": "execute_result"
    }
   ],
   "source": [
    "lst2"
   ]
  },
  {
   "cell_type": "code",
   "execution_count": 22,
   "id": "a83fcff8",
   "metadata": {},
   "outputs": [],
   "source": [
    "## Deep copy\n",
    "\n",
    "import copy\n",
    "\n",
    "lst1=[1,2,3,4]\n",
    "lst2 = copy.deepcopy(lst1)"
   ]
  },
  {
   "cell_type": "code",
   "execution_count": 23,
   "id": "8d457d79",
   "metadata": {},
   "outputs": [
    {
     "data": {
      "text/plain": [
       "([1, 2, 3, 4], [1, 2, 3, 4])"
      ]
     },
     "execution_count": 23,
     "metadata": {},
     "output_type": "execute_result"
    }
   ],
   "source": [
    "lst1,lst2"
   ]
  },
  {
   "cell_type": "code",
   "execution_count": 24,
   "id": "8167f8fb",
   "metadata": {},
   "outputs": [],
   "source": [
    "lst2[1]=100"
   ]
  },
  {
   "cell_type": "code",
   "execution_count": 25,
   "id": "6d9a82c6",
   "metadata": {},
   "outputs": [
    {
     "data": {
      "text/plain": [
       "([1, 2, 3, 4], [1, 100, 3, 4])"
      ]
     },
     "execution_count": 25,
     "metadata": {},
     "output_type": "execute_result"
    }
   ],
   "source": [
    "lst1,lst2"
   ]
  },
  {
   "cell_type": "code",
   "execution_count": 26,
   "id": "c24dc834",
   "metadata": {},
   "outputs": [],
   "source": [
    "## In normal list shallow copy == deep copy"
   ]
  },
  {
   "cell_type": "code",
   "execution_count": 27,
   "id": "471476fc",
   "metadata": {},
   "outputs": [],
   "source": [
    "#In nested list shallow copy != deep copy\n",
    "\n",
    "lst1 = [[1,2,3,4],[5,6,7,8,],[2,4,8,9]]\n",
    "lst2=copy.deepcopy(lst1)"
   ]
  },
  {
   "cell_type": "code",
   "execution_count": 28,
   "id": "d454a39d",
   "metadata": {},
   "outputs": [
    {
     "data": {
      "text/plain": [
       "([[1, 2, 3, 4], [5, 6, 7, 8], [2, 4, 8, 9]],\n",
       " [[1, 2, 3, 4], [5, 6, 7, 8], [2, 4, 8, 9]])"
      ]
     },
     "execution_count": 28,
     "metadata": {},
     "output_type": "execute_result"
    }
   ],
   "source": [
    "lst1,lst2"
   ]
  },
  {
   "cell_type": "code",
   "execution_count": 30,
   "id": "3a7a77f7",
   "metadata": {},
   "outputs": [],
   "source": [
    "lst2[1][0]=100"
   ]
  },
  {
   "cell_type": "code",
   "execution_count": 31,
   "id": "2a37eadd",
   "metadata": {},
   "outputs": [
    {
     "data": {
      "text/plain": [
       "([[1, 2, 3, 4], [100, 6, 7, 8], [2, 4, 8, 9]],\n",
       " [[1, 2, 3, 4], [5, 6, 7, 8], [2, 4, 8, 9]])"
      ]
     },
     "execution_count": 31,
     "metadata": {},
     "output_type": "execute_result"
    }
   ],
   "source": [
    "lst2,lst1"
   ]
  },
  {
   "cell_type": "code",
   "execution_count": null,
   "id": "df1f6bb0",
   "metadata": {},
   "outputs": [],
   "source": []
  }
 ],
 "metadata": {
  "kernelspec": {
   "display_name": "Python 3 (ipykernel)",
   "language": "python",
   "name": "python3"
  },
  "language_info": {
   "codemirror_mode": {
    "name": "ipython",
    "version": 3
   },
   "file_extension": ".py",
   "mimetype": "text/x-python",
   "name": "python",
   "nbconvert_exporter": "python",
   "pygments_lexer": "ipython3",
   "version": "3.10.9"
  }
 },
 "nbformat": 4,
 "nbformat_minor": 5
}

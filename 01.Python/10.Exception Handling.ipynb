{
 "cells": [
  {
   "cell_type": "markdown",
   "id": "87d933de",
   "metadata": {},
   "source": [
    "# Exception Handling"
   ]
  },
  {
   "cell_type": "code",
   "execution_count": 7,
   "id": "2fc3d8fd",
   "metadata": {},
   "outputs": [
    {
     "ename": "NameError",
     "evalue": "name 'b' is not defined",
     "output_type": "error",
     "traceback": [
      "\u001b[1;31m---------------------------------------------------------------------------\u001b[0m",
      "\u001b[1;31mNameError\u001b[0m                                 Traceback (most recent call last)",
      "Cell \u001b[1;32mIn[7], line 1\u001b[0m\n\u001b[1;32m----> 1\u001b[0m a\u001b[38;5;241m=\u001b[39m\u001b[43mb\u001b[49m\n",
      "\u001b[1;31mNameError\u001b[0m: name 'b' is not defined"
     ]
    }
   ],
   "source": [
    "a=b"
   ]
  },
  {
   "cell_type": "code",
   "execution_count": 5,
   "id": "d37f7a43",
   "metadata": {},
   "outputs": [
    {
     "name": "stdout",
     "output_type": "stream",
     "text": [
      "name 'b' is not defined\n"
     ]
    }
   ],
   "source": [
    "try:\n",
    "    ## code block where exception can occur\n",
    "    a = b\n",
    "    \n",
    "except Exception as e:\n",
    "    print(e)\n"
   ]
  },
  {
   "cell_type": "code",
   "execution_count": 8,
   "id": "33cdff5d",
   "metadata": {},
   "outputs": [
    {
     "name": "stdout",
     "output_type": "stream",
     "text": [
      "The user have not defined the variable\n"
     ]
    }
   ],
   "source": [
    "try:\n",
    "    a=b\n",
    "    \n",
    "except NameError as ex:\n",
    "    print('The user have not defined the variable')\n",
    "    \n",
    "except Exception as e:\n",
    "    print(e)"
   ]
  },
  {
   "cell_type": "code",
   "execution_count": 9,
   "id": "c97272e4",
   "metadata": {},
   "outputs": [
    {
     "name": "stdout",
     "output_type": "stream",
     "text": [
      "unsupported operand type(s) for +: 'int' and 'str'\n"
     ]
    }
   ],
   "source": [
    "try:\n",
    "    a=1\n",
    "    b='S'\n",
    "    c=a+b\n",
    "except NameError as ex:\n",
    "    print('The user have not defined the variable')\n",
    "    \n",
    "except Exception as e:\n",
    "    print(e)"
   ]
  },
  {
   "cell_type": "code",
   "execution_count": 10,
   "id": "b147f5d6",
   "metadata": {},
   "outputs": [
    {
     "ename": "TypeError",
     "evalue": "unsupported operand type(s) for +: 'int' and 'str'",
     "output_type": "error",
     "traceback": [
      "\u001b[1;31m---------------------------------------------------------------------------\u001b[0m",
      "\u001b[1;31mTypeError\u001b[0m                                 Traceback (most recent call last)",
      "Cell \u001b[1;32mIn[10], line 3\u001b[0m\n\u001b[0;32m      1\u001b[0m a\u001b[38;5;241m=\u001b[39m\u001b[38;5;241m1\u001b[39m\n\u001b[0;32m      2\u001b[0m b\u001b[38;5;241m=\u001b[39m\u001b[38;5;124m'\u001b[39m\u001b[38;5;124mS\u001b[39m\u001b[38;5;124m'\u001b[39m\n\u001b[1;32m----> 3\u001b[0m c\u001b[38;5;241m=\u001b[39m\u001b[43ma\u001b[49m\u001b[38;5;241;43m+\u001b[39;49m\u001b[43mb\u001b[49m\n",
      "\u001b[1;31mTypeError\u001b[0m: unsupported operand type(s) for +: 'int' and 'str'"
     ]
    }
   ],
   "source": [
    "a=1\n",
    "b='S'\n",
    "c=a+b"
   ]
  },
  {
   "cell_type": "code",
   "execution_count": 11,
   "id": "4d7a822c",
   "metadata": {},
   "outputs": [
    {
     "name": "stdout",
     "output_type": "stream",
     "text": [
      "Try to make datatype similar\n"
     ]
    }
   ],
   "source": [
    "try:\n",
    "    a=1\n",
    "    b='S'\n",
    "    c=a+b\n",
    "    \n",
    "except NameError:\n",
    "    print('The user have not defined the variable')\n",
    "except TypeError:\n",
    "    print('Try to make datatype similar')\n",
    "except Exception as e:\n",
    "    print(e)"
   ]
  },
  {
   "cell_type": "code",
   "execution_count": 20,
   "id": "e16541ef",
   "metadata": {},
   "outputs": [
    {
     "name": "stdout",
     "output_type": "stream",
     "text": [
      "Enter num 1: 55\n",
      "Enter num 2: 0\n",
      "Please provide number greater than 0\n"
     ]
    }
   ],
   "source": [
    "try:\n",
    "    a=int(input('Enter num 1: '))\n",
    "    b=int(input('Enter num 2: '))\n",
    "    c=a/b\n",
    "    d=a*b\n",
    "    e=a+b\n",
    "except NameError:\n",
    "    print('The user have not defined the variable')\n",
    "except ZeroDivisionError:\n",
    "    print('Please provide number greater than 0')\n",
    "except TypeError:\n",
    "    print('Try to make datatype similar')\n",
    "except Exception as e:\n",
    "    print(e)\n",
    "else:\n",
    "    print(c)\n",
    "    print(d)\n",
    "    print(e)"
   ]
  },
  {
   "cell_type": "code",
   "execution_count": 21,
   "id": "68b2549d",
   "metadata": {},
   "outputs": [
    {
     "name": "stdout",
     "output_type": "stream",
     "text": [
      "Enter num 1: 45\n",
      "Enter num 2: 15\n",
      "3.0\n",
      "675\n",
      "60\n"
     ]
    }
   ],
   "source": [
    "try:\n",
    "    a=int(input('Enter num 1: '))\n",
    "    b=int(input('Enter num 2: '))\n",
    "    c=a/b\n",
    "    d=a*b\n",
    "    e=a+b\n",
    "except NameError:\n",
    "    print('The user have not defined the variable')\n",
    "except ZeroDivisionError:\n",
    "    print('Please provide number greater than 0')\n",
    "except TypeError:\n",
    "    print('Try to make datatype similar')\n",
    "except Exception as e:\n",
    "    print(e)\n",
    "else:\n",
    "    print(c)\n",
    "    print(d)\n",
    "    print(e)"
   ]
  },
  {
   "cell_type": "code",
   "execution_count": 22,
   "id": "9b46a466",
   "metadata": {},
   "outputs": [
    {
     "name": "stdout",
     "output_type": "stream",
     "text": [
      "Enter num 1: 12\n",
      "Enter num 2: 4\n",
      "3.0\n",
      "Execution is done\n"
     ]
    }
   ],
   "source": [
    "## try else finally\n",
    "try:\n",
    "    a=int(input('Enter num 1: '))\n",
    "    b=int(input('Enter num 2: '))\n",
    "    c=a/b\n",
    "except NameError:\n",
    "    print('The user have not defined the variable')\n",
    "except ZeroDivisionError:\n",
    "    print('Please provide number greater than 0')\n",
    "except TypeError:\n",
    "    print('Try to make datatype similar')\n",
    "except Exception as e:\n",
    "    print(e)\n",
    "else:\n",
    "    print(c)\n",
    "finally:\n",
    "    print('Execution is done')"
   ]
  },
  {
   "cell_type": "code",
   "execution_count": null,
   "id": "265fbae7",
   "metadata": {},
   "outputs": [],
   "source": []
  },
  {
   "cell_type": "markdown",
   "id": "ae0755c2",
   "metadata": {},
   "source": [
    "# Custom Exception"
   ]
  },
  {
   "cell_type": "code",
   "execution_count": 23,
   "id": "9abc6169",
   "metadata": {},
   "outputs": [],
   "source": [
    "class Error(Exception):\n",
    "    pass\n",
    "\n",
    "class dobException(Error):\n",
    "    pass\n",
    "\n"
   ]
  },
  {
   "cell_type": "code",
   "execution_count": 28,
   "id": "230db810",
   "metadata": {},
   "outputs": [
    {
     "name": "stdout",
     "output_type": "stream",
     "text": [
      "enter the year of birth: 1999\n",
      "The age is valid. You can apply for the exams\n"
     ]
    }
   ],
   "source": [
    "year = int(input('enter the year of birth: '))\n",
    "age = 2024 - year\n",
    "try:\n",
    "    if age <= 30 and age >20:\n",
    "        print('The age is valid. You can apply for the exams')\n",
    "    else:\n",
    "        raise dobException\n",
    "        \n",
    "except dobException:\n",
    "    print('The year age not valid. You cannot apply for the exams')"
   ]
  },
  {
   "cell_type": "code",
   "execution_count": null,
   "id": "b1705b5e",
   "metadata": {},
   "outputs": [],
   "source": []
  },
  {
   "cell_type": "markdown",
   "id": "14dc9845",
   "metadata": {},
   "source": [
    "# Assert\n",
    "- Python provides the assert statement to check if a given logical expression is true or false.\n",
    "- Program execution proceeds only if the expression is true and raise the AssertionError when it is false."
   ]
  },
  {
   "cell_type": "code",
   "execution_count": 1,
   "id": "986cc3b2",
   "metadata": {},
   "outputs": [],
   "source": [
    "num =10"
   ]
  },
  {
   "cell_type": "code",
   "execution_count": 5,
   "id": "bcf2dce2",
   "metadata": {},
   "outputs": [
    {
     "data": {
      "text/plain": [
       "True"
      ]
     },
     "execution_count": 5,
     "metadata": {},
     "output_type": "execute_result"
    }
   ],
   "source": [
    "num >=10"
   ]
  },
  {
   "cell_type": "code",
   "execution_count": 3,
   "id": "4507d9a2",
   "metadata": {},
   "outputs": [],
   "source": [
    "assert num>=10"
   ]
  },
  {
   "cell_type": "code",
   "execution_count": 4,
   "id": "d94d9add",
   "metadata": {},
   "outputs": [
    {
     "ename": "AssertionError",
     "evalue": "",
     "output_type": "error",
     "traceback": [
      "\u001b[1;31m---------------------------------------------------------------------------\u001b[0m",
      "\u001b[1;31mAssertionError\u001b[0m                            Traceback (most recent call last)",
      "Cell \u001b[1;32mIn[4], line 1\u001b[0m\n\u001b[1;32m----> 1\u001b[0m \u001b[38;5;28;01massert\u001b[39;00m num\u001b[38;5;241m>\u001b[39m\u001b[38;5;241m10\u001b[39m\n",
      "\u001b[1;31mAssertionError\u001b[0m: "
     ]
    }
   ],
   "source": [
    "assert num>10"
   ]
  },
  {
   "cell_type": "code",
   "execution_count": 9,
   "id": "9d7487e8",
   "metadata": {},
   "outputs": [
    {
     "name": "stdout",
     "output_type": "stream",
     "text": [
      "Enter the even number: 11\n",
      "please enter even number\n"
     ]
    }
   ],
   "source": [
    "try :\n",
    "    num = int(input('Enter the even number: '))\n",
    "    assert num % 2==0\n",
    "    print('Num is even')\n",
    "except AssertionError:\n",
    "    print('please enter even number')"
   ]
  },
  {
   "cell_type": "code",
   "execution_count": null,
   "id": "45bc863b",
   "metadata": {},
   "outputs": [],
   "source": []
  }
 ],
 "metadata": {
  "kernelspec": {
   "display_name": "Python 3 (ipykernel)",
   "language": "python",
   "name": "python3"
  },
  "language_info": {
   "codemirror_mode": {
    "name": "ipython",
    "version": 3
   },
   "file_extension": ".py",
   "mimetype": "text/x-python",
   "name": "python",
   "nbconvert_exporter": "python",
   "pygments_lexer": "ipython3",
   "version": "3.10.9"
  }
 },
 "nbformat": 4,
 "nbformat_minor": 5
}

{
 "cells": [
  {
   "cell_type": "markdown",
   "id": "0488505b",
   "metadata": {},
   "source": [
    "# Functions in python\n",
    "- why functions\n",
    "- function defination\n",
    "- positional and keyword argument in funxtions"
   ]
  },
  {
   "cell_type": "code",
   "execution_count": 1,
   "id": "6f1bc28d",
   "metadata": {},
   "outputs": [
    {
     "name": "stdout",
     "output_type": "stream",
     "text": [
      "Even\n"
     ]
    }
   ],
   "source": [
    "num = 24\n",
    "\n",
    "if num%2==0:\n",
    "    print('Even')\n",
    "else:\n",
    "    print('Odd')"
   ]
  },
  {
   "cell_type": "code",
   "execution_count": 2,
   "id": "e83b7f13",
   "metadata": {},
   "outputs": [],
   "source": [
    "def even_odd(num):\n",
    "    if num%2==0:\n",
    "        print('Even')\n",
    "    else:\n",
    "        print('Odd')"
   ]
  },
  {
   "cell_type": "code",
   "execution_count": 4,
   "id": "4c94341a",
   "metadata": {},
   "outputs": [
    {
     "name": "stdout",
     "output_type": "stream",
     "text": [
      "Even\n"
     ]
    }
   ],
   "source": [
    "even_odd(30)"
   ]
  },
  {
   "cell_type": "code",
   "execution_count": 5,
   "id": "ca3b6f51",
   "metadata": {},
   "outputs": [],
   "source": [
    "\n",
    "# print vs return\n",
    "\n",
    "def hello_world():\n",
    "    print('Hello Welcome')"
   ]
  },
  {
   "cell_type": "code",
   "execution_count": 6,
   "id": "a412dd2e",
   "metadata": {},
   "outputs": [
    {
     "name": "stdout",
     "output_type": "stream",
     "text": [
      "Hello Welcome\n"
     ]
    }
   ],
   "source": [
    "hello_world()"
   ]
  },
  {
   "cell_type": "code",
   "execution_count": 7,
   "id": "80d8318e",
   "metadata": {},
   "outputs": [
    {
     "name": "stdout",
     "output_type": "stream",
     "text": [
      "Hello Welcome\n"
     ]
    }
   ],
   "source": [
    "val = hello_world()"
   ]
  },
  {
   "cell_type": "code",
   "execution_count": 8,
   "id": "458416b4",
   "metadata": {},
   "outputs": [
    {
     "name": "stdout",
     "output_type": "stream",
     "text": [
      "None\n"
     ]
    }
   ],
   "source": [
    "print(val) # not returing any output"
   ]
  },
  {
   "cell_type": "code",
   "execution_count": null,
   "id": "dbde5fd6",
   "metadata": {},
   "outputs": [],
   "source": []
  },
  {
   "cell_type": "code",
   "execution_count": 9,
   "id": "8e72625c",
   "metadata": {},
   "outputs": [],
   "source": [
    "def hello_world():\n",
    "    return 'Hello Welcome'"
   ]
  },
  {
   "cell_type": "code",
   "execution_count": 10,
   "id": "4c84a49b",
   "metadata": {},
   "outputs": [],
   "source": [
    "val=hello_world()"
   ]
  },
  {
   "cell_type": "code",
   "execution_count": 11,
   "id": "d48e1b5a",
   "metadata": {},
   "outputs": [
    {
     "name": "stdout",
     "output_type": "stream",
     "text": [
      "Hello Welcome\n"
     ]
    }
   ],
   "source": [
    "print(val)"
   ]
  },
  {
   "cell_type": "code",
   "execution_count": 12,
   "id": "5b6539ad",
   "metadata": {},
   "outputs": [],
   "source": [
    "def add_num(num1,num2):\n",
    "    return num1 + num2"
   ]
  },
  {
   "cell_type": "code",
   "execution_count": 13,
   "id": "285390d6",
   "metadata": {},
   "outputs": [],
   "source": [
    "val = add_num(24,54)"
   ]
  },
  {
   "cell_type": "code",
   "execution_count": 14,
   "id": "3d981176",
   "metadata": {},
   "outputs": [
    {
     "data": {
      "text/plain": [
       "78"
      ]
     },
     "execution_count": 14,
     "metadata": {},
     "output_type": "execute_result"
    }
   ],
   "source": [
    "val"
   ]
  },
  {
   "cell_type": "code",
   "execution_count": 15,
   "id": "cf43553a",
   "metadata": {},
   "outputs": [],
   "source": [
    "# positional argument\n",
    "#key word argument\n",
    "\n",
    "def hello(name,age=25):\n",
    "    print(f'My name is {name} and age is {age}')"
   ]
  },
  {
   "cell_type": "code",
   "execution_count": 16,
   "id": "5472fd21",
   "metadata": {},
   "outputs": [
    {
     "name": "stdout",
     "output_type": "stream",
     "text": [
      "My name is Sandeep and age is 25\n"
     ]
    }
   ],
   "source": [
    "hello('Sandeep')"
   ]
  },
  {
   "cell_type": "code",
   "execution_count": 17,
   "id": "88e8724a",
   "metadata": {},
   "outputs": [],
   "source": [
    "def hello(*args,**kwargs):\n",
    "    print(args)\n",
    "    print(kwargs)"
   ]
  },
  {
   "cell_type": "code",
   "execution_count": 18,
   "id": "6e26240f",
   "metadata": {},
   "outputs": [
    {
     "name": "stdout",
     "output_type": "stream",
     "text": [
      "('Sandeep', 'Bandi')\n",
      "{'age': 25, 'dob': 1998}\n"
     ]
    }
   ],
   "source": [
    "hello('Sandeep','Bandi',age=25,dob=1998)"
   ]
  },
  {
   "cell_type": "code",
   "execution_count": 21,
   "id": "7b6063ba",
   "metadata": {},
   "outputs": [],
   "source": [
    "lst=['Sandeep', 'Bandi']\n",
    "dict_args={'age': 25, 'dob': 1998}"
   ]
  },
  {
   "cell_type": "code",
   "execution_count": 22,
   "id": "7d0cf5be",
   "metadata": {},
   "outputs": [
    {
     "name": "stdout",
     "output_type": "stream",
     "text": [
      "(['Sandeep', 'Bandi'], {'age': 25, 'dob': 1998})\n",
      "{}\n"
     ]
    }
   ],
   "source": [
    "hello(lst,dict_args) # default it taking both as args"
   ]
  },
  {
   "cell_type": "code",
   "execution_count": 23,
   "id": "3c6359d6",
   "metadata": {},
   "outputs": [
    {
     "name": "stdout",
     "output_type": "stream",
     "text": [
      "('Sandeep', 'Bandi')\n",
      "{'age': 25, 'dob': 1998}\n"
     ]
    }
   ],
   "source": [
    "hello(*lst,**dict_args)  # using * we can make args and kwargs"
   ]
  },
  {
   "cell_type": "code",
   "execution_count": 28,
   "id": "78ed613e",
   "metadata": {},
   "outputs": [],
   "source": [
    "lst = [1,2,3,4,5,6,7]\n",
    "def even_odd_sum(lst):\n",
    "    even_sum = 0\n",
    "    odd_sum = 0\n",
    "    for i in lst:\n",
    "        if i%2 ==0:\n",
    "            even_sum=even_sum+i\n",
    "        else:\n",
    "            odd_sum = odd_sum+i\n",
    "    return(even_sum,odd_sum)\n",
    "    #return f'Even sum:{even_sum} and Odd sum is {odd_sum}'"
   ]
  },
  {
   "cell_type": "code",
   "execution_count": 29,
   "id": "834829eb",
   "metadata": {},
   "outputs": [
    {
     "data": {
      "text/plain": [
       "(12, 16)"
      ]
     },
     "execution_count": 29,
     "metadata": {},
     "output_type": "execute_result"
    }
   ],
   "source": [
    "even_odd_sum(lst)"
   ]
  },
  {
   "cell_type": "code",
   "execution_count": null,
   "id": "0795849a",
   "metadata": {},
   "outputs": [],
   "source": []
  },
  {
   "cell_type": "markdown",
   "id": "9209e55e",
   "metadata": {},
   "source": [
    "# Lambda Functions\n",
    "- Anonymous function\n",
    "- A function with No name"
   ]
  },
  {
   "cell_type": "code",
   "execution_count": 30,
   "id": "de3f99b4",
   "metadata": {},
   "outputs": [],
   "source": [
    "def add(a,b):\n",
    "    a+b"
   ]
  },
  {
   "cell_type": "code",
   "execution_count": 31,
   "id": "177989af",
   "metadata": {},
   "outputs": [],
   "source": [
    "add(4,5)"
   ]
  },
  {
   "cell_type": "code",
   "execution_count": 32,
   "id": "89ac815e",
   "metadata": {},
   "outputs": [],
   "source": [
    " addition = lambda a,b:a+b"
   ]
  },
  {
   "cell_type": "code",
   "execution_count": 34,
   "id": "0547db43",
   "metadata": {},
   "outputs": [
    {
     "data": {
      "text/plain": [
       "19"
      ]
     },
     "execution_count": 34,
     "metadata": {},
     "output_type": "execute_result"
    }
   ],
   "source": [
    "addition(14,5)"
   ]
  },
  {
   "cell_type": "code",
   "execution_count": 35,
   "id": "a1494e59",
   "metadata": {},
   "outputs": [],
   "source": [
    "def even(num):\n",
    "    if num%2==0:\n",
    "        return True"
   ]
  },
  {
   "cell_type": "code",
   "execution_count": 36,
   "id": "911364dd",
   "metadata": {},
   "outputs": [
    {
     "data": {
      "text/plain": [
       "True"
      ]
     },
     "execution_count": 36,
     "metadata": {},
     "output_type": "execute_result"
    }
   ],
   "source": [
    "even(24)"
   ]
  },
  {
   "cell_type": "code",
   "execution_count": 37,
   "id": "cac2984f",
   "metadata": {},
   "outputs": [],
   "source": [
    "even1 = lambda a:a%2==0"
   ]
  },
  {
   "cell_type": "code",
   "execution_count": 38,
   "id": "e929056e",
   "metadata": {},
   "outputs": [
    {
     "data": {
      "text/plain": [
       "False"
      ]
     },
     "execution_count": 38,
     "metadata": {},
     "output_type": "execute_result"
    }
   ],
   "source": [
    "even1(45)"
   ]
  },
  {
   "cell_type": "code",
   "execution_count": 40,
   "id": "d5cdd09c",
   "metadata": {},
   "outputs": [],
   "source": [
    "def addi(a,b,c):\n",
    "    return a+b+c"
   ]
  },
  {
   "cell_type": "code",
   "execution_count": 41,
   "id": "efcd1776",
   "metadata": {},
   "outputs": [
    {
     "data": {
      "text/plain": [
       "15"
      ]
     },
     "execution_count": 41,
     "metadata": {},
     "output_type": "execute_result"
    }
   ],
   "source": [
    "addi(4,5,6)"
   ]
  },
  {
   "cell_type": "code",
   "execution_count": 42,
   "id": "49189091",
   "metadata": {},
   "outputs": [],
   "source": [
    "ad = lambda a,b,c:a+b+c"
   ]
  },
  {
   "cell_type": "code",
   "execution_count": 43,
   "id": "ec0103c9",
   "metadata": {},
   "outputs": [
    {
     "data": {
      "text/plain": [
       "24"
      ]
     },
     "execution_count": 43,
     "metadata": {},
     "output_type": "execute_result"
    }
   ],
   "source": [
    "ad(7,8,9)"
   ]
  },
  {
   "cell_type": "code",
   "execution_count": null,
   "id": "904b88df",
   "metadata": {},
   "outputs": [],
   "source": []
  },
  {
   "cell_type": "markdown",
   "id": "76db7cb1",
   "metadata": {},
   "source": [
    "# Map Function"
   ]
  },
  {
   "cell_type": "code",
   "execution_count": 44,
   "id": "7a331110",
   "metadata": {},
   "outputs": [],
   "source": [
    "def even_or_odd(num):\n",
    "    if num%2==0:\n",
    "        return f'{num} is Even'\n",
    "    else:\n",
    "        return f'{num} is Odd'"
   ]
  },
  {
   "cell_type": "code",
   "execution_count": 45,
   "id": "8e78c442",
   "metadata": {},
   "outputs": [
    {
     "data": {
      "text/plain": [
       "'45 is Odd'"
      ]
     },
     "execution_count": 45,
     "metadata": {},
     "output_type": "execute_result"
    }
   ],
   "source": [
    "even_or_odd(45)"
   ]
  },
  {
   "cell_type": "code",
   "execution_count": 46,
   "id": "25ff7a49",
   "metadata": {},
   "outputs": [],
   "source": [
    "#Same thing should applied for multiple numbers\n",
    "\n",
    "lst =[1,2,3,4,5,6,7,8,9,24,56,78]"
   ]
  },
  {
   "cell_type": "code",
   "execution_count": 48,
   "id": "efbd379c",
   "metadata": {},
   "outputs": [
    {
     "data": {
      "text/plain": [
       "['1 is Odd',\n",
       " '2 is Even',\n",
       " '3 is Odd',\n",
       " '4 is Even',\n",
       " '5 is Odd',\n",
       " '6 is Even',\n",
       " '7 is Odd',\n",
       " '8 is Even',\n",
       " '9 is Odd',\n",
       " '24 is Even',\n",
       " '56 is Even',\n",
       " '78 is Even']"
      ]
     },
     "execution_count": 48,
     "metadata": {},
     "output_type": "execute_result"
    }
   ],
   "source": [
    "list(map(even_or_odd,lst))"
   ]
  },
  {
   "cell_type": "code",
   "execution_count": null,
   "id": "2db9b985",
   "metadata": {},
   "outputs": [],
   "source": []
  },
  {
   "cell_type": "markdown",
   "id": "b7b342e7",
   "metadata": {},
   "source": [
    "# Filter Function "
   ]
  },
  {
   "cell_type": "code",
   "execution_count": 49,
   "id": "0e29a938",
   "metadata": {},
   "outputs": [],
   "source": [
    "def even(num):\n",
    "    if num%2==0:\n",
    "        return True"
   ]
  },
  {
   "cell_type": "code",
   "execution_count": 53,
   "id": "4a949290",
   "metadata": {},
   "outputs": [],
   "source": [
    "lst=[1,2,3,4,5,6,7,8,9] # i should only get which elements are even"
   ]
  },
  {
   "cell_type": "code",
   "execution_count": 54,
   "id": "45c58253",
   "metadata": {},
   "outputs": [
    {
     "data": {
      "text/plain": [
       "[2, 4, 6, 8]"
      ]
     },
     "execution_count": 54,
     "metadata": {},
     "output_type": "execute_result"
    }
   ],
   "source": [
    "list(filter(even,lst))"
   ]
  },
  {
   "cell_type": "code",
   "execution_count": 55,
   "id": "ee654d92",
   "metadata": {},
   "outputs": [
    {
     "data": {
      "text/plain": [
       "<filter at 0x2866fccb010>"
      ]
     },
     "execution_count": 55,
     "metadata": {},
     "output_type": "execute_result"
    }
   ],
   "source": [
    "filter(lambda num : num%2==0,lst)"
   ]
  },
  {
   "cell_type": "code",
   "execution_count": 56,
   "id": "26f535f1",
   "metadata": {},
   "outputs": [
    {
     "data": {
      "text/plain": [
       "[2, 4, 6, 8]"
      ]
     },
     "execution_count": 56,
     "metadata": {},
     "output_type": "execute_result"
    }
   ],
   "source": [
    "list(filter(lambda num : num%2==0,lst)) # which are true that will print"
   ]
  },
  {
   "cell_type": "code",
   "execution_count": 57,
   "id": "79a5f701",
   "metadata": {},
   "outputs": [
    {
     "data": {
      "text/plain": [
       "[False, True, False, True, False, True, False, True, False]"
      ]
     },
     "execution_count": 57,
     "metadata": {},
     "output_type": "execute_result"
    }
   ],
   "source": [
    "list(map(lambda num : num%2==0,lst)) #everthing with print"
   ]
  },
  {
   "cell_type": "code",
   "execution_count": null,
   "id": "e8776df5",
   "metadata": {},
   "outputs": [],
   "source": []
  },
  {
   "cell_type": "code",
   "execution_count": null,
   "id": "14e97a64",
   "metadata": {},
   "outputs": [],
   "source": []
  }
 ],
 "metadata": {
  "kernelspec": {
   "display_name": "Python 3 (ipykernel)",
   "language": "python",
   "name": "python3"
  },
  "language_info": {
   "codemirror_mode": {
    "name": "ipython",
    "version": 3
   },
   "file_extension": ".py",
   "mimetype": "text/x-python",
   "name": "python",
   "nbconvert_exporter": "python",
   "pygments_lexer": "ipython3",
   "version": "3.10.9"
  }
 },
 "nbformat": 4,
 "nbformat_minor": 5
}

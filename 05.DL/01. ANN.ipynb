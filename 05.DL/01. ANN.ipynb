{
 "cells": [
  {
   "cell_type": "code",
   "execution_count": 1,
   "id": "59808873",
   "metadata": {},
   "outputs": [
    {
     "name": "stdout",
     "output_type": "stream",
     "text": [
      "WARNING:tensorflow:From C:\\Users\\Admin\\AppData\\Local\\anaconda3\\lib\\site-packages\\keras\\src\\losses.py:2976: The name tf.losses.sparse_softmax_cross_entropy is deprecated. Please use tf.compat.v1.losses.sparse_softmax_cross_entropy instead.\n",
      "\n",
      "2.15.0\n"
     ]
    }
   ],
   "source": [
    "import tensorflow as tf\n",
    "print(tf.__version__)"
   ]
  },
  {
   "cell_type": "code",
   "execution_count": 2,
   "id": "63969d7b",
   "metadata": {},
   "outputs": [],
   "source": [
    "#import some basic libraries\n",
    "import numpy as np\n",
    "import pandas as pd\n",
    "import matplotlib.pyplot as plt"
   ]
  },
  {
   "cell_type": "code",
   "execution_count": 3,
   "id": "bf9d0ad3",
   "metadata": {},
   "outputs": [],
   "source": [
    "df = pd.read_csv('Churn_Modelling.csv')"
   ]
  },
  {
   "cell_type": "code",
   "execution_count": 4,
   "id": "42864329",
   "metadata": {},
   "outputs": [
    {
     "data": {
      "text/html": [
       "<div>\n",
       "<style scoped>\n",
       "    .dataframe tbody tr th:only-of-type {\n",
       "        vertical-align: middle;\n",
       "    }\n",
       "\n",
       "    .dataframe tbody tr th {\n",
       "        vertical-align: top;\n",
       "    }\n",
       "\n",
       "    .dataframe thead th {\n",
       "        text-align: right;\n",
       "    }\n",
       "</style>\n",
       "<table border=\"1\" class=\"dataframe\">\n",
       "  <thead>\n",
       "    <tr style=\"text-align: right;\">\n",
       "      <th></th>\n",
       "      <th>RowNumber</th>\n",
       "      <th>CustomerId</th>\n",
       "      <th>Surname</th>\n",
       "      <th>CreditScore</th>\n",
       "      <th>Geography</th>\n",
       "      <th>Gender</th>\n",
       "      <th>Age</th>\n",
       "      <th>Tenure</th>\n",
       "      <th>Balance</th>\n",
       "      <th>NumOfProducts</th>\n",
       "      <th>HasCrCard</th>\n",
       "      <th>IsActiveMember</th>\n",
       "      <th>EstimatedSalary</th>\n",
       "      <th>Exited</th>\n",
       "    </tr>\n",
       "  </thead>\n",
       "  <tbody>\n",
       "    <tr>\n",
       "      <th>0</th>\n",
       "      <td>1</td>\n",
       "      <td>15634602</td>\n",
       "      <td>Hargrave</td>\n",
       "      <td>619</td>\n",
       "      <td>France</td>\n",
       "      <td>Female</td>\n",
       "      <td>42</td>\n",
       "      <td>2</td>\n",
       "      <td>0.00</td>\n",
       "      <td>1</td>\n",
       "      <td>1</td>\n",
       "      <td>1</td>\n",
       "      <td>101348.88</td>\n",
       "      <td>1</td>\n",
       "    </tr>\n",
       "    <tr>\n",
       "      <th>1</th>\n",
       "      <td>2</td>\n",
       "      <td>15647311</td>\n",
       "      <td>Hill</td>\n",
       "      <td>608</td>\n",
       "      <td>Spain</td>\n",
       "      <td>Female</td>\n",
       "      <td>41</td>\n",
       "      <td>1</td>\n",
       "      <td>83807.86</td>\n",
       "      <td>1</td>\n",
       "      <td>0</td>\n",
       "      <td>1</td>\n",
       "      <td>112542.58</td>\n",
       "      <td>0</td>\n",
       "    </tr>\n",
       "    <tr>\n",
       "      <th>2</th>\n",
       "      <td>3</td>\n",
       "      <td>15619304</td>\n",
       "      <td>Onio</td>\n",
       "      <td>502</td>\n",
       "      <td>France</td>\n",
       "      <td>Female</td>\n",
       "      <td>42</td>\n",
       "      <td>8</td>\n",
       "      <td>159660.80</td>\n",
       "      <td>3</td>\n",
       "      <td>1</td>\n",
       "      <td>0</td>\n",
       "      <td>113931.57</td>\n",
       "      <td>1</td>\n",
       "    </tr>\n",
       "    <tr>\n",
       "      <th>3</th>\n",
       "      <td>4</td>\n",
       "      <td>15701354</td>\n",
       "      <td>Boni</td>\n",
       "      <td>699</td>\n",
       "      <td>France</td>\n",
       "      <td>Female</td>\n",
       "      <td>39</td>\n",
       "      <td>1</td>\n",
       "      <td>0.00</td>\n",
       "      <td>2</td>\n",
       "      <td>0</td>\n",
       "      <td>0</td>\n",
       "      <td>93826.63</td>\n",
       "      <td>0</td>\n",
       "    </tr>\n",
       "    <tr>\n",
       "      <th>4</th>\n",
       "      <td>5</td>\n",
       "      <td>15737888</td>\n",
       "      <td>Mitchell</td>\n",
       "      <td>850</td>\n",
       "      <td>Spain</td>\n",
       "      <td>Female</td>\n",
       "      <td>43</td>\n",
       "      <td>2</td>\n",
       "      <td>125510.82</td>\n",
       "      <td>1</td>\n",
       "      <td>1</td>\n",
       "      <td>1</td>\n",
       "      <td>79084.10</td>\n",
       "      <td>0</td>\n",
       "    </tr>\n",
       "  </tbody>\n",
       "</table>\n",
       "</div>"
      ],
      "text/plain": [
       "   RowNumber  CustomerId   Surname  CreditScore Geography  Gender  Age  \\\n",
       "0          1    15634602  Hargrave          619    France  Female   42   \n",
       "1          2    15647311      Hill          608     Spain  Female   41   \n",
       "2          3    15619304      Onio          502    France  Female   42   \n",
       "3          4    15701354      Boni          699    France  Female   39   \n",
       "4          5    15737888  Mitchell          850     Spain  Female   43   \n",
       "\n",
       "   Tenure    Balance  NumOfProducts  HasCrCard  IsActiveMember  \\\n",
       "0       2       0.00              1          1               1   \n",
       "1       1   83807.86              1          0               1   \n",
       "2       8  159660.80              3          1               0   \n",
       "3       1       0.00              2          0               0   \n",
       "4       2  125510.82              1          1               1   \n",
       "\n",
       "   EstimatedSalary  Exited  \n",
       "0        101348.88       1  \n",
       "1        112542.58       0  \n",
       "2        113931.57       1  \n",
       "3         93826.63       0  \n",
       "4         79084.10       0  "
      ]
     },
     "execution_count": 4,
     "metadata": {},
     "output_type": "execute_result"
    }
   ],
   "source": [
    "df.head()"
   ]
  },
  {
   "cell_type": "code",
   "execution_count": 5,
   "id": "a2dbead8",
   "metadata": {},
   "outputs": [],
   "source": [
    "## Divide the dataset into independent and dependent features\n",
    "\n",
    "X = df.iloc[:,3:-1]\n",
    "y = df.iloc[:,-1]"
   ]
  },
  {
   "cell_type": "code",
   "execution_count": 6,
   "id": "57b2cb48",
   "metadata": {},
   "outputs": [
    {
     "data": {
      "text/html": [
       "<div>\n",
       "<style scoped>\n",
       "    .dataframe tbody tr th:only-of-type {\n",
       "        vertical-align: middle;\n",
       "    }\n",
       "\n",
       "    .dataframe tbody tr th {\n",
       "        vertical-align: top;\n",
       "    }\n",
       "\n",
       "    .dataframe thead th {\n",
       "        text-align: right;\n",
       "    }\n",
       "</style>\n",
       "<table border=\"1\" class=\"dataframe\">\n",
       "  <thead>\n",
       "    <tr style=\"text-align: right;\">\n",
       "      <th></th>\n",
       "      <th>CreditScore</th>\n",
       "      <th>Geography</th>\n",
       "      <th>Gender</th>\n",
       "      <th>Age</th>\n",
       "      <th>Tenure</th>\n",
       "      <th>Balance</th>\n",
       "      <th>NumOfProducts</th>\n",
       "      <th>HasCrCard</th>\n",
       "      <th>IsActiveMember</th>\n",
       "      <th>EstimatedSalary</th>\n",
       "    </tr>\n",
       "  </thead>\n",
       "  <tbody>\n",
       "    <tr>\n",
       "      <th>0</th>\n",
       "      <td>619</td>\n",
       "      <td>France</td>\n",
       "      <td>Female</td>\n",
       "      <td>42</td>\n",
       "      <td>2</td>\n",
       "      <td>0.00</td>\n",
       "      <td>1</td>\n",
       "      <td>1</td>\n",
       "      <td>1</td>\n",
       "      <td>101348.88</td>\n",
       "    </tr>\n",
       "    <tr>\n",
       "      <th>1</th>\n",
       "      <td>608</td>\n",
       "      <td>Spain</td>\n",
       "      <td>Female</td>\n",
       "      <td>41</td>\n",
       "      <td>1</td>\n",
       "      <td>83807.86</td>\n",
       "      <td>1</td>\n",
       "      <td>0</td>\n",
       "      <td>1</td>\n",
       "      <td>112542.58</td>\n",
       "    </tr>\n",
       "    <tr>\n",
       "      <th>2</th>\n",
       "      <td>502</td>\n",
       "      <td>France</td>\n",
       "      <td>Female</td>\n",
       "      <td>42</td>\n",
       "      <td>8</td>\n",
       "      <td>159660.80</td>\n",
       "      <td>3</td>\n",
       "      <td>1</td>\n",
       "      <td>0</td>\n",
       "      <td>113931.57</td>\n",
       "    </tr>\n",
       "    <tr>\n",
       "      <th>3</th>\n",
       "      <td>699</td>\n",
       "      <td>France</td>\n",
       "      <td>Female</td>\n",
       "      <td>39</td>\n",
       "      <td>1</td>\n",
       "      <td>0.00</td>\n",
       "      <td>2</td>\n",
       "      <td>0</td>\n",
       "      <td>0</td>\n",
       "      <td>93826.63</td>\n",
       "    </tr>\n",
       "    <tr>\n",
       "      <th>4</th>\n",
       "      <td>850</td>\n",
       "      <td>Spain</td>\n",
       "      <td>Female</td>\n",
       "      <td>43</td>\n",
       "      <td>2</td>\n",
       "      <td>125510.82</td>\n",
       "      <td>1</td>\n",
       "      <td>1</td>\n",
       "      <td>1</td>\n",
       "      <td>79084.10</td>\n",
       "    </tr>\n",
       "  </tbody>\n",
       "</table>\n",
       "</div>"
      ],
      "text/plain": [
       "   CreditScore Geography  Gender  Age  Tenure    Balance  NumOfProducts  \\\n",
       "0          619    France  Female   42       2       0.00              1   \n",
       "1          608     Spain  Female   41       1   83807.86              1   \n",
       "2          502    France  Female   42       8  159660.80              3   \n",
       "3          699    France  Female   39       1       0.00              2   \n",
       "4          850     Spain  Female   43       2  125510.82              1   \n",
       "\n",
       "   HasCrCard  IsActiveMember  EstimatedSalary  \n",
       "0          1               1        101348.88  \n",
       "1          0               1        112542.58  \n",
       "2          1               0        113931.57  \n",
       "3          0               0         93826.63  \n",
       "4          1               1         79084.10  "
      ]
     },
     "execution_count": 6,
     "metadata": {},
     "output_type": "execute_result"
    }
   ],
   "source": [
    "X.head()"
   ]
  },
  {
   "cell_type": "code",
   "execution_count": 7,
   "id": "1ed175e1",
   "metadata": {},
   "outputs": [
    {
     "data": {
      "text/plain": [
       "0    1\n",
       "1    0\n",
       "2    1\n",
       "3    0\n",
       "4    0\n",
       "Name: Exited, dtype: int64"
      ]
     },
     "execution_count": 7,
     "metadata": {},
     "output_type": "execute_result"
    }
   ],
   "source": [
    "y.head()"
   ]
  },
  {
   "cell_type": "code",
   "execution_count": 8,
   "id": "6168e620",
   "metadata": {},
   "outputs": [],
   "source": [
    "# FE\n",
    "geography = pd.get_dummies(X['Geography'],drop_first=True)\n",
    "gender = pd.get_dummies(X['Gender'],drop_first=True)"
   ]
  },
  {
   "cell_type": "code",
   "execution_count": 9,
   "id": "a1d6625d",
   "metadata": {},
   "outputs": [],
   "source": [
    "## concat variable to dataframe\n",
    "X.drop(labels=['Geography','Gender'],axis=1,inplace=True)"
   ]
  },
  {
   "cell_type": "code",
   "execution_count": 10,
   "id": "0adbef0b",
   "metadata": {},
   "outputs": [
    {
     "data": {
      "text/html": [
       "<div>\n",
       "<style scoped>\n",
       "    .dataframe tbody tr th:only-of-type {\n",
       "        vertical-align: middle;\n",
       "    }\n",
       "\n",
       "    .dataframe tbody tr th {\n",
       "        vertical-align: top;\n",
       "    }\n",
       "\n",
       "    .dataframe thead th {\n",
       "        text-align: right;\n",
       "    }\n",
       "</style>\n",
       "<table border=\"1\" class=\"dataframe\">\n",
       "  <thead>\n",
       "    <tr style=\"text-align: right;\">\n",
       "      <th></th>\n",
       "      <th>CreditScore</th>\n",
       "      <th>Age</th>\n",
       "      <th>Tenure</th>\n",
       "      <th>Balance</th>\n",
       "      <th>NumOfProducts</th>\n",
       "      <th>HasCrCard</th>\n",
       "      <th>IsActiveMember</th>\n",
       "      <th>EstimatedSalary</th>\n",
       "    </tr>\n",
       "  </thead>\n",
       "  <tbody>\n",
       "    <tr>\n",
       "      <th>0</th>\n",
       "      <td>619</td>\n",
       "      <td>42</td>\n",
       "      <td>2</td>\n",
       "      <td>0.00</td>\n",
       "      <td>1</td>\n",
       "      <td>1</td>\n",
       "      <td>1</td>\n",
       "      <td>101348.88</td>\n",
       "    </tr>\n",
       "    <tr>\n",
       "      <th>1</th>\n",
       "      <td>608</td>\n",
       "      <td>41</td>\n",
       "      <td>1</td>\n",
       "      <td>83807.86</td>\n",
       "      <td>1</td>\n",
       "      <td>0</td>\n",
       "      <td>1</td>\n",
       "      <td>112542.58</td>\n",
       "    </tr>\n",
       "    <tr>\n",
       "      <th>2</th>\n",
       "      <td>502</td>\n",
       "      <td>42</td>\n",
       "      <td>8</td>\n",
       "      <td>159660.80</td>\n",
       "      <td>3</td>\n",
       "      <td>1</td>\n",
       "      <td>0</td>\n",
       "      <td>113931.57</td>\n",
       "    </tr>\n",
       "    <tr>\n",
       "      <th>3</th>\n",
       "      <td>699</td>\n",
       "      <td>39</td>\n",
       "      <td>1</td>\n",
       "      <td>0.00</td>\n",
       "      <td>2</td>\n",
       "      <td>0</td>\n",
       "      <td>0</td>\n",
       "      <td>93826.63</td>\n",
       "    </tr>\n",
       "    <tr>\n",
       "      <th>4</th>\n",
       "      <td>850</td>\n",
       "      <td>43</td>\n",
       "      <td>2</td>\n",
       "      <td>125510.82</td>\n",
       "      <td>1</td>\n",
       "      <td>1</td>\n",
       "      <td>1</td>\n",
       "      <td>79084.10</td>\n",
       "    </tr>\n",
       "  </tbody>\n",
       "</table>\n",
       "</div>"
      ],
      "text/plain": [
       "   CreditScore  Age  Tenure    Balance  NumOfProducts  HasCrCard  \\\n",
       "0          619   42       2       0.00              1          1   \n",
       "1          608   41       1   83807.86              1          0   \n",
       "2          502   42       8  159660.80              3          1   \n",
       "3          699   39       1       0.00              2          0   \n",
       "4          850   43       2  125510.82              1          1   \n",
       "\n",
       "   IsActiveMember  EstimatedSalary  \n",
       "0               1        101348.88  \n",
       "1               1        112542.58  \n",
       "2               0        113931.57  \n",
       "3               0         93826.63  \n",
       "4               1         79084.10  "
      ]
     },
     "execution_count": 10,
     "metadata": {},
     "output_type": "execute_result"
    }
   ],
   "source": [
    "X.head()"
   ]
  },
  {
   "cell_type": "code",
   "execution_count": 11,
   "id": "30bf5f42",
   "metadata": {},
   "outputs": [],
   "source": [
    "X = pd.concat([X,geography,gender],axis=1)"
   ]
  },
  {
   "cell_type": "code",
   "execution_count": 12,
   "id": "dcc07f28",
   "metadata": {},
   "outputs": [
    {
     "data": {
      "text/html": [
       "<div>\n",
       "<style scoped>\n",
       "    .dataframe tbody tr th:only-of-type {\n",
       "        vertical-align: middle;\n",
       "    }\n",
       "\n",
       "    .dataframe tbody tr th {\n",
       "        vertical-align: top;\n",
       "    }\n",
       "\n",
       "    .dataframe thead th {\n",
       "        text-align: right;\n",
       "    }\n",
       "</style>\n",
       "<table border=\"1\" class=\"dataframe\">\n",
       "  <thead>\n",
       "    <tr style=\"text-align: right;\">\n",
       "      <th></th>\n",
       "      <th>CreditScore</th>\n",
       "      <th>Age</th>\n",
       "      <th>Tenure</th>\n",
       "      <th>Balance</th>\n",
       "      <th>NumOfProducts</th>\n",
       "      <th>HasCrCard</th>\n",
       "      <th>IsActiveMember</th>\n",
       "      <th>EstimatedSalary</th>\n",
       "      <th>Germany</th>\n",
       "      <th>Spain</th>\n",
       "      <th>Male</th>\n",
       "    </tr>\n",
       "  </thead>\n",
       "  <tbody>\n",
       "    <tr>\n",
       "      <th>0</th>\n",
       "      <td>619</td>\n",
       "      <td>42</td>\n",
       "      <td>2</td>\n",
       "      <td>0.00</td>\n",
       "      <td>1</td>\n",
       "      <td>1</td>\n",
       "      <td>1</td>\n",
       "      <td>101348.88</td>\n",
       "      <td>0</td>\n",
       "      <td>0</td>\n",
       "      <td>0</td>\n",
       "    </tr>\n",
       "    <tr>\n",
       "      <th>1</th>\n",
       "      <td>608</td>\n",
       "      <td>41</td>\n",
       "      <td>1</td>\n",
       "      <td>83807.86</td>\n",
       "      <td>1</td>\n",
       "      <td>0</td>\n",
       "      <td>1</td>\n",
       "      <td>112542.58</td>\n",
       "      <td>0</td>\n",
       "      <td>1</td>\n",
       "      <td>0</td>\n",
       "    </tr>\n",
       "    <tr>\n",
       "      <th>2</th>\n",
       "      <td>502</td>\n",
       "      <td>42</td>\n",
       "      <td>8</td>\n",
       "      <td>159660.80</td>\n",
       "      <td>3</td>\n",
       "      <td>1</td>\n",
       "      <td>0</td>\n",
       "      <td>113931.57</td>\n",
       "      <td>0</td>\n",
       "      <td>0</td>\n",
       "      <td>0</td>\n",
       "    </tr>\n",
       "    <tr>\n",
       "      <th>3</th>\n",
       "      <td>699</td>\n",
       "      <td>39</td>\n",
       "      <td>1</td>\n",
       "      <td>0.00</td>\n",
       "      <td>2</td>\n",
       "      <td>0</td>\n",
       "      <td>0</td>\n",
       "      <td>93826.63</td>\n",
       "      <td>0</td>\n",
       "      <td>0</td>\n",
       "      <td>0</td>\n",
       "    </tr>\n",
       "    <tr>\n",
       "      <th>4</th>\n",
       "      <td>850</td>\n",
       "      <td>43</td>\n",
       "      <td>2</td>\n",
       "      <td>125510.82</td>\n",
       "      <td>1</td>\n",
       "      <td>1</td>\n",
       "      <td>1</td>\n",
       "      <td>79084.10</td>\n",
       "      <td>0</td>\n",
       "      <td>1</td>\n",
       "      <td>0</td>\n",
       "    </tr>\n",
       "  </tbody>\n",
       "</table>\n",
       "</div>"
      ],
      "text/plain": [
       "   CreditScore  Age  Tenure    Balance  NumOfProducts  HasCrCard  \\\n",
       "0          619   42       2       0.00              1          1   \n",
       "1          608   41       1   83807.86              1          0   \n",
       "2          502   42       8  159660.80              3          1   \n",
       "3          699   39       1       0.00              2          0   \n",
       "4          850   43       2  125510.82              1          1   \n",
       "\n",
       "   IsActiveMember  EstimatedSalary  Germany  Spain  Male  \n",
       "0               1        101348.88        0      0     0  \n",
       "1               1        112542.58        0      1     0  \n",
       "2               0        113931.57        0      0     0  \n",
       "3               0         93826.63        0      0     0  \n",
       "4               1         79084.10        0      1     0  "
      ]
     },
     "execution_count": 12,
     "metadata": {},
     "output_type": "execute_result"
    }
   ],
   "source": [
    "X.head()"
   ]
  },
  {
   "cell_type": "code",
   "execution_count": 13,
   "id": "e61b4b51",
   "metadata": {},
   "outputs": [],
   "source": [
    "#train test split\n",
    "from sklearn.model_selection import train_test_split\n",
    "\n",
    "X_train, X_test , y_train, y_test = train_test_split(X,y,test_size=0.2,random_state=0)"
   ]
  },
  {
   "cell_type": "code",
   "execution_count": 14,
   "id": "5074cf65",
   "metadata": {},
   "outputs": [],
   "source": [
    "from sklearn.preprocessing import StandardScaler\n",
    "sc = StandardScaler()\n",
    "\n",
    "X_train = sc.fit_transform(X_train)\n",
    "X_test = sc.transform(X_test)"
   ]
  },
  {
   "cell_type": "code",
   "execution_count": 15,
   "id": "63eaf479",
   "metadata": {},
   "outputs": [
    {
     "data": {
      "text/plain": [
       "array([[ 0.16958176, -0.46460796,  0.00666099, ..., -0.5698444 ,\n",
       "         1.74309049, -1.09168714],\n",
       "       [-2.30455945,  0.30102557, -1.37744033, ...,  1.75486502,\n",
       "        -0.57369368,  0.91601335],\n",
       "       [-1.19119591, -0.94312892, -1.031415  , ..., -0.5698444 ,\n",
       "        -0.57369368, -1.09168714],\n",
       "       ...,\n",
       "       [ 0.9015152 , -0.36890377,  0.00666099, ..., -0.5698444 ,\n",
       "        -0.57369368,  0.91601335],\n",
       "       [-0.62420521, -0.08179119,  1.39076231, ..., -0.5698444 ,\n",
       "         1.74309049, -1.09168714],\n",
       "       [-0.28401079,  0.87525072, -1.37744033, ...,  1.75486502,\n",
       "        -0.57369368, -1.09168714]])"
      ]
     },
     "execution_count": 15,
     "metadata": {},
     "output_type": "execute_result"
    }
   ],
   "source": [
    "X_train"
   ]
  },
  {
   "cell_type": "code",
   "execution_count": 16,
   "id": "eaf622a3",
   "metadata": {},
   "outputs": [
    {
     "data": {
      "text/plain": [
       "array([[-0.55204276, -0.36890377,  1.04473698, ...,  1.75486502,\n",
       "        -0.57369368, -1.09168714],\n",
       "       [-1.31490297,  0.10961719, -1.031415  , ..., -0.5698444 ,\n",
       "        -0.57369368, -1.09168714],\n",
       "       [ 0.57162971,  0.30102557,  1.04473698, ..., -0.5698444 ,\n",
       "         1.74309049, -1.09168714],\n",
       "       ...,\n",
       "       [-0.74791227, -0.27319958, -1.37744033, ..., -0.5698444 ,\n",
       "         1.74309049,  0.91601335],\n",
       "       [-0.00566991, -0.46460796, -0.33936434, ...,  1.75486502,\n",
       "        -0.57369368,  0.91601335],\n",
       "       [-0.79945688, -0.84742473,  1.04473698, ...,  1.75486502,\n",
       "        -0.57369368,  0.91601335]])"
      ]
     },
     "execution_count": 16,
     "metadata": {},
     "output_type": "execute_result"
    }
   ],
   "source": [
    "X_test"
   ]
  },
  {
   "cell_type": "code",
   "execution_count": 17,
   "id": "0c3fa4d2",
   "metadata": {},
   "outputs": [
    {
     "data": {
      "text/plain": [
       "(8000, 11)"
      ]
     },
     "execution_count": 17,
     "metadata": {},
     "output_type": "execute_result"
    }
   ],
   "source": [
    "X_train.shape"
   ]
  },
  {
   "cell_type": "code",
   "execution_count": 18,
   "id": "6109bbaf",
   "metadata": {},
   "outputs": [],
   "source": [
    "#part 2 Now lets create ANN"
   ]
  },
  {
   "cell_type": "code",
   "execution_count": 19,
   "id": "f6e476a5",
   "metadata": {},
   "outputs": [],
   "source": [
    "from tensorflow.keras.models import Sequential\n",
    "from tensorflow.keras.layers import Dense\n",
    "from tensorflow.keras.layers import ReLU\n",
    "from tensorflow.keras.layers import Dropout\n"
   ]
  },
  {
   "cell_type": "code",
   "execution_count": 20,
   "id": "6f0d5a80",
   "metadata": {},
   "outputs": [
    {
     "name": "stdout",
     "output_type": "stream",
     "text": [
      "WARNING:tensorflow:From C:\\Users\\Admin\\AppData\\Local\\anaconda3\\lib\\site-packages\\keras\\src\\backend.py:873: The name tf.get_default_graph is deprecated. Please use tf.compat.v1.get_default_graph instead.\n",
      "\n"
     ]
    }
   ],
   "source": [
    "### Initialize the ANN\n",
    "classifier = Sequential()"
   ]
  },
  {
   "cell_type": "code",
   "execution_count": 21,
   "id": "c5739ca2",
   "metadata": {},
   "outputs": [],
   "source": [
    "classifier.add(Dense(units=11,activation='relu'))"
   ]
  },
  {
   "cell_type": "code",
   "execution_count": 22,
   "id": "c0449755",
   "metadata": {},
   "outputs": [],
   "source": [
    "## adding first hidden layer\n",
    "classifier.add(Dense(units=7,activation='relu'))"
   ]
  },
  {
   "cell_type": "code",
   "execution_count": 23,
   "id": "b4397d1b",
   "metadata": {},
   "outputs": [],
   "source": [
    "## adding second hidden layer\n",
    "classifier.add(Dense(units=6,activation='relu'))"
   ]
  },
  {
   "cell_type": "code",
   "execution_count": 24,
   "id": "2d9a9b52",
   "metadata": {},
   "outputs": [],
   "source": [
    "## adding output layer\n",
    "classifier.add(Dense(1,activation='sigmoid'))"
   ]
  },
  {
   "cell_type": "code",
   "execution_count": 28,
   "id": "49ca2629",
   "metadata": {},
   "outputs": [],
   "source": [
    "#compliing\n",
    "#classifier.compile(optimizer='adam',loss='binary_cross_entropy',metrics=['accuracy'])"
   ]
  },
  {
   "cell_type": "code",
   "execution_count": 32,
   "id": "9ec273d7",
   "metadata": {},
   "outputs": [],
   "source": [
    "import tensorflow\n",
    "opt = tensorflow.keras.optimizers.Adam(learning_rate=0.01)"
   ]
  },
  {
   "cell_type": "code",
   "execution_count": 33,
   "id": "ce4cf5a0",
   "metadata": {},
   "outputs": [],
   "source": [
    "classifier.compile(optimizer=opt,loss='binary_crossentropy',metrics=['accuracy'])"
   ]
  },
  {
   "cell_type": "code",
   "execution_count": 34,
   "id": "e8d99b41",
   "metadata": {},
   "outputs": [],
   "source": [
    "#Early stopping\n",
    "import tensorflow as tf\n",
    "early_stopping = tf.keras.callbacks.EarlyStopping(\n",
    "    monitor=\"val_loss\",\n",
    "    min_delta=0.0001,\n",
    "    patience=20,\n",
    "    verbose=1,\n",
    "    mode=\"auto\",\n",
    "    baseline=None,\n",
    "    restore_best_weights=False,\n",
    "    start_from_epoch=0,\n",
    ")"
   ]
  },
  {
   "cell_type": "code",
   "execution_count": 37,
   "id": "61a1fcb0",
   "metadata": {},
   "outputs": [
    {
     "name": "stdout",
     "output_type": "stream",
     "text": [
      "Epoch 1/1000\n",
      "536/536 [==============================] - 3s 5ms/step - loss: 0.3282 - accuracy: 0.8664 - val_loss: 0.3702 - val_accuracy: 0.8516\n",
      "Epoch 2/1000\n",
      "536/536 [==============================] - 2s 5ms/step - loss: 0.3295 - accuracy: 0.8664 - val_loss: 0.3653 - val_accuracy: 0.8474\n",
      "Epoch 3/1000\n",
      "536/536 [==============================] - 2s 4ms/step - loss: 0.3281 - accuracy: 0.8651 - val_loss: 0.3803 - val_accuracy: 0.8497\n",
      "Epoch 4/1000\n",
      "536/536 [==============================] - 2s 5ms/step - loss: 0.3276 - accuracy: 0.8666 - val_loss: 0.3710 - val_accuracy: 0.8440\n",
      "Epoch 5/1000\n",
      "536/536 [==============================] - 2s 5ms/step - loss: 0.3273 - accuracy: 0.8627 - val_loss: 0.3720 - val_accuracy: 0.8466\n",
      "Epoch 6/1000\n",
      "536/536 [==============================] - 2s 4ms/step - loss: 0.3282 - accuracy: 0.8647 - val_loss: 0.3883 - val_accuracy: 0.8512\n",
      "Epoch 7/1000\n",
      "536/536 [==============================] - 2s 4ms/step - loss: 0.3283 - accuracy: 0.8638 - val_loss: 0.3747 - val_accuracy: 0.8508\n",
      "Epoch 8/1000\n",
      "536/536 [==============================] - 3s 6ms/step - loss: 0.3261 - accuracy: 0.8651 - val_loss: 0.3666 - val_accuracy: 0.8554\n",
      "Epoch 9/1000\n",
      "536/536 [==============================] - 2s 5ms/step - loss: 0.3247 - accuracy: 0.8623 - val_loss: 0.3745 - val_accuracy: 0.8535\n",
      "Epoch 10/1000\n",
      "536/536 [==============================] - 3s 5ms/step - loss: 0.3252 - accuracy: 0.8643 - val_loss: 0.3643 - val_accuracy: 0.8523\n",
      "Epoch 11/1000\n",
      "536/536 [==============================] - 3s 5ms/step - loss: 0.3235 - accuracy: 0.8647 - val_loss: 0.3648 - val_accuracy: 0.8482\n",
      "Epoch 12/1000\n",
      "536/536 [==============================] - 3s 5ms/step - loss: 0.3249 - accuracy: 0.8655 - val_loss: 0.3688 - val_accuracy: 0.8516\n",
      "Epoch 13/1000\n",
      "536/536 [==============================] - 3s 5ms/step - loss: 0.3234 - accuracy: 0.8638 - val_loss: 0.3771 - val_accuracy: 0.8485\n",
      "Epoch 14/1000\n",
      "536/536 [==============================] - 3s 5ms/step - loss: 0.3257 - accuracy: 0.8617 - val_loss: 0.3684 - val_accuracy: 0.8512\n",
      "Epoch 15/1000\n",
      "536/536 [==============================] - 3s 6ms/step - loss: 0.3249 - accuracy: 0.8643 - val_loss: 0.3751 - val_accuracy: 0.8451\n",
      "Epoch 16/1000\n",
      "536/536 [==============================] - 5s 9ms/step - loss: 0.3241 - accuracy: 0.8638 - val_loss: 0.3620 - val_accuracy: 0.8512\n",
      "Epoch 17/1000\n",
      "536/536 [==============================] - 4s 7ms/step - loss: 0.3234 - accuracy: 0.8640 - val_loss: 0.3661 - val_accuracy: 0.8561\n",
      "Epoch 18/1000\n",
      "536/536 [==============================] - 5s 9ms/step - loss: 0.3225 - accuracy: 0.8658 - val_loss: 0.3624 - val_accuracy: 0.8546\n",
      "Epoch 19/1000\n",
      "536/536 [==============================] - 6s 10ms/step - loss: 0.3242 - accuracy: 0.8653 - val_loss: 0.3712 - val_accuracy: 0.8470\n",
      "Epoch 20/1000\n",
      "536/536 [==============================] - 5s 9ms/step - loss: 0.3192 - accuracy: 0.8690 - val_loss: 0.3822 - val_accuracy: 0.8478\n",
      "Epoch 21/1000\n",
      "536/536 [==============================] - 4s 7ms/step - loss: 0.3218 - accuracy: 0.8655 - val_loss: 0.3672 - val_accuracy: 0.8516\n",
      "Epoch 22/1000\n",
      "536/536 [==============================] - 3s 5ms/step - loss: 0.3251 - accuracy: 0.8653 - val_loss: 0.3624 - val_accuracy: 0.8531\n",
      "Epoch 23/1000\n",
      "536/536 [==============================] - 3s 5ms/step - loss: 0.3244 - accuracy: 0.8645 - val_loss: 0.3798 - val_accuracy: 0.8425\n",
      "Epoch 24/1000\n",
      "536/536 [==============================] - 3s 6ms/step - loss: 0.3195 - accuracy: 0.8670 - val_loss: 0.3705 - val_accuracy: 0.8512\n",
      "Epoch 25/1000\n",
      "536/536 [==============================] - 3s 5ms/step - loss: 0.3224 - accuracy: 0.8666 - val_loss: 0.3715 - val_accuracy: 0.8504\n",
      "Epoch 26/1000\n",
      "536/536 [==============================] - 3s 5ms/step - loss: 0.3208 - accuracy: 0.8671 - val_loss: 0.3719 - val_accuracy: 0.8516\n",
      "Epoch 27/1000\n",
      "536/536 [==============================] - 2s 5ms/step - loss: 0.3198 - accuracy: 0.8668 - val_loss: 0.3732 - val_accuracy: 0.8542\n",
      "Epoch 28/1000\n",
      "536/536 [==============================] - 3s 6ms/step - loss: 0.3238 - accuracy: 0.8658 - val_loss: 0.3677 - val_accuracy: 0.8493\n",
      "Epoch 29/1000\n",
      "536/536 [==============================] - 3s 6ms/step - loss: 0.3205 - accuracy: 0.8681 - val_loss: 0.3669 - val_accuracy: 0.8474\n",
      "Epoch 30/1000\n",
      "536/536 [==============================] - 3s 5ms/step - loss: 0.3218 - accuracy: 0.8640 - val_loss: 0.3796 - val_accuracy: 0.8489\n",
      "Epoch 31/1000\n",
      "536/536 [==============================] - 3s 5ms/step - loss: 0.3208 - accuracy: 0.8658 - val_loss: 0.3762 - val_accuracy: 0.8531\n",
      "Epoch 32/1000\n",
      "536/536 [==============================] - 2s 3ms/step - loss: 0.3182 - accuracy: 0.8668 - val_loss: 0.3892 - val_accuracy: 0.8470\n",
      "Epoch 33/1000\n",
      "536/536 [==============================] - 2s 4ms/step - loss: 0.3184 - accuracy: 0.8677 - val_loss: 0.3728 - val_accuracy: 0.8501\n",
      "Epoch 34/1000\n",
      "536/536 [==============================] - 2s 4ms/step - loss: 0.3179 - accuracy: 0.8677 - val_loss: 0.3741 - val_accuracy: 0.8527\n",
      "Epoch 35/1000\n",
      "536/536 [==============================] - 2s 3ms/step - loss: 0.3206 - accuracy: 0.8668 - val_loss: 0.3765 - val_accuracy: 0.8501\n",
      "Epoch 36/1000\n",
      "536/536 [==============================] - 2s 4ms/step - loss: 0.3182 - accuracy: 0.8642 - val_loss: 0.3781 - val_accuracy: 0.8531\n",
      "Epoch 36: early stopping\n"
     ]
    }
   ],
   "source": [
    "model_history = classifier.fit(X_train,y_train,validation_split=0.33,batch_size=10,epochs=1000,callbacks=early_stopping)"
   ]
  },
  {
   "cell_type": "code",
   "execution_count": 38,
   "id": "aa108079",
   "metadata": {},
   "outputs": [
    {
     "data": {
      "text/plain": [
       "dict_keys(['loss', 'accuracy', 'val_loss', 'val_accuracy'])"
      ]
     },
     "execution_count": 38,
     "metadata": {},
     "output_type": "execute_result"
    }
   ],
   "source": [
    "model_history.history.keys()"
   ]
  },
  {
   "cell_type": "code",
   "execution_count": 39,
   "id": "1ea14f42",
   "metadata": {},
   "outputs": [
    {
     "data": {
      "image/png": "[encoded data removed]",
      "text/plain": [
       "<Figure size 640x480 with 1 Axes>"
      ]
     },
     "metadata": {},
     "output_type": "display_data"
    }
   ],
   "source": [
    "# summary history for accuracy\n",
    "plt.plot(model_history.history['accuracy'])\n",
    "plt.plot(model_history.history['val_accuracy'])\n",
    "plt.title('Model Accuracy')\n",
    "plt.ylabel('accuracy')\n",
    "plt.xlabel('epoch')\n",
    "plt.legend(['train','test'], loc='upper left')\n",
    "plt.show()"
   ]
  },
  {
   "cell_type": "code",
   "execution_count": 40,
   "id": "ff2f13e9",
   "metadata": {},
   "outputs": [
    {
     "name": "stdout",
     "output_type": "stream",
     "text": [
      "63/63 [==============================] - 0s 3ms/step\n"
     ]
    }
   ],
   "source": [
    "#part 3 making predictions and evaluting the model\n",
    "\n",
    "# predicting the test set results\n",
    "\n",
    "y_pred = classifier.predict(X_test)\n",
    "y_pred = (y_pred >= 0.5)"
   ]
  },
  {
   "cell_type": "code",
   "execution_count": 41,
   "id": "0542aea6",
   "metadata": {},
   "outputs": [
    {
     "data": {
      "text/plain": [
       "array([[1501,   94],\n",
       "       [ 192,  213]], dtype=int64)"
      ]
     },
     "execution_count": 41,
     "metadata": {},
     "output_type": "execute_result"
    }
   ],
   "source": [
    "#make the confusion matrix\n",
    "from sklearn.metrics import confusion_matrix\n",
    "cm = confusion_matrix(y_test,y_pred)\n",
    "cm"
   ]
  },
  {
   "cell_type": "code",
   "execution_count": 42,
   "id": "e8f2f3e3",
   "metadata": {},
   "outputs": [],
   "source": [
    "## calculate the accuracy\n",
    "from sklearn.metrics import accuracy_score\n",
    "score = accuracy_score(y_pred, y_test)"
   ]
  },
  {
   "cell_type": "code",
   "execution_count": 43,
   "id": "2ed02dac",
   "metadata": {},
   "outputs": [
    {
     "data": {
      "text/plain": [
       "0.857"
      ]
     },
     "execution_count": 43,
     "metadata": {},
     "output_type": "execute_result"
    }
   ],
   "source": [
    "score"
   ]
  },
  {
   "cell_type": "code",
   "execution_count": 44,
   "id": "0c8d9692",
   "metadata": {},
   "outputs": [
    {
     "data": {
      "text/plain": [
       "[array([[-0.22448678, -0.23836651,  0.40821505, -0.71182376,  1.278584  ,\n",
       "          0.14525482,  1.0716711 , -0.38975835, -0.158068  , -0.69683135,\n",
       "         -1.6368437 ],\n",
       "        [-3.0201585 ,  0.5200214 , -4.8106084 , -2.83761   , -0.82636136,\n",
       "         -1.8294958 ,  0.945185  ,  3.0851977 ,  2.002484  ,  1.6593574 ,\n",
       "         -0.5538133 ],\n",
       "        [-0.2409902 , -0.0992681 , -0.48996595,  0.23857673,  0.3101267 ,\n",
       "          1.8092425 ,  1.1099412 , -0.20515488, -0.0273456 , -2.4836    ,\n",
       "          1.7198004 ],\n",
       "        [-1.2042298 ,  1.4936801 , -2.217012  , -1.154385  , -1.0913559 ,\n",
       "         -1.7324221 , -0.21624011, -0.61722994, -1.7461162 , -0.8771837 ,\n",
       "         -2.3119338 ],\n",
       "        [ 0.7110449 ,  3.4714184 ,  1.025539  , -1.6990361 , -0.40090555,\n",
       "         -0.51589674,  4.0374537 ,  0.3876739 , -4.5240936 , -1.0804462 ,\n",
       "         -0.32424238],\n",
       "        [-0.3961932 , -0.42808408,  0.6432749 ,  0.28471136,  1.3466582 ,\n",
       "         -2.0589848 , -0.31795397, -0.21772549, -0.5930054 , -0.19799358,\n",
       "         -0.4666932 ],\n",
       "        [-1.7929636 , -0.43575883,  1.8147418 , -0.7421563 ,  1.998528  ,\n",
       "          1.1803359 , -0.85388386,  1.3006234 , -1.8581637 , -1.690091  ,\n",
       "         -0.39513797],\n",
       "        [ 0.45812893,  0.25843576, -0.64344275,  1.9847581 ,  2.974213  ,\n",
       "         -0.6469119 ,  0.01728945,  0.23430037,  0.35828748, -0.01650092,\n",
       "          2.2109928 ],\n",
       "        [-0.9010236 , -1.2437152 , -0.2673712 , -1.3714476 ,  0.43539616,\n",
       "         -0.9099689 ,  0.76213646, -0.27346674,  1.6692832 , -1.5163951 ,\n",
       "         -2.4107304 ],\n",
       "        [-1.1655132 ,  0.04863199,  1.3152114 ,  0.42442748,  0.68542916,\n",
       "         -0.9770271 , -0.83605486, -0.37588283, -0.5704188 , -0.23179004,\n",
       "         -0.4221536 ],\n",
       "        [ 0.13068205, -0.0734465 ,  0.6971432 ,  1.5993024 ,  1.69255   ,\n",
       "          2.9267497 ,  0.49531928,  0.31745234, -0.21770069, -0.21772622,\n",
       "          0.71698207]], dtype=float32),\n",
       " array([ 2.8275313 , -3.6990917 , -0.760584  , -3.4850233 , -0.9322141 ,\n",
       "        -1.168508  , -2.798094  , -5.15131   , -0.12710023, -2.639274  ,\n",
       "        -2.840387  ], dtype=float32),\n",
       " array([[-0.25013858, -1.2717795 , -0.27066708, -1.47148   ,  0.2983932 ,\n",
       "         -0.6775276 ,  0.97947353],\n",
       "        [-0.3635577 ,  1.7646728 , -0.46899772,  0.04237787, -2.0760603 ,\n",
       "          1.2957301 ,  0.23488125],\n",
       "        [-0.11184229,  0.78264034, -0.27520332, -3.714696  ,  0.4265185 ,\n",
       "         -1.9180946 , -2.9458618 ],\n",
       "        [-0.1914954 , -0.25517437, -0.36959428, -0.6460269 , -1.853388  ,\n",
       "          1.9595352 ,  1.8916519 ],\n",
       "        [-0.6310013 , -0.4815183 , -0.24108957,  0.13399686,  1.1756371 ,\n",
       "         -0.7247354 , -1.4142098 ],\n",
       "        [-0.3609027 , -3.5905833 , -0.12873985, -0.19358745,  0.9624752 ,\n",
       "         -3.1109712 ,  1.0558897 ],\n",
       "        [-0.3419664 ,  1.6410913 , -0.12226903,  0.4567276 , -0.14246048,\n",
       "          0.5268863 , -3.8882573 ],\n",
       "        [ 0.05772428, -3.3999891 , -0.43646854, -2.5833194 ,  2.7698362 ,\n",
       "         -1.6928861 ,  2.1928341 ],\n",
       "        [-0.73371243,  0.57336473, -0.13897577,  1.276251  , -5.1189437 ,\n",
       "         -1.9265058 , -0.57845247],\n",
       "        [-0.14798301,  1.6567867 , -0.47645193,  0.7822441 ,  1.1713984 ,\n",
       "          1.2346429 ,  1.098309  ],\n",
       "        [-0.6713576 ,  0.93245494, -0.49505642,  1.3680822 ,  0.54846585,\n",
       "         -1.798445  , -2.2733872 ]], dtype=float32),\n",
       " array([-0.27954057, -3.2036238 , -0.16915117,  0.56592464,  1.3220115 ,\n",
       "        -2.6920004 , -2.8548088 ], dtype=float32),\n",
       " array([[-0.00955681,  0.13591999, -0.57316047, -0.4916432 , -0.20465223,\n",
       "          0.10794371],\n",
       "        [-1.051339  , -0.3086488 , -0.561841  , -0.88937384, -0.1891297 ,\n",
       "          0.7154892 ],\n",
       "        [-0.13957793,  0.28034607, -0.16570589, -0.13853227,  0.34306586,\n",
       "         -0.57354116],\n",
       "        [-0.26534033, -0.2001116 , -0.32943934, -1.4559226 ,  0.07148302,\n",
       "          0.5321469 ],\n",
       "        [-0.5172927 ,  0.8176532 , -0.28199247, -0.4440071 , -0.04093378,\n",
       "         -0.39019778],\n",
       "        [ 0.24112892,  0.71076864, -0.03056847,  0.27986673,  0.64506745,\n",
       "          2.0022614 ],\n",
       "        [-0.8457086 , -0.955967  , -0.30131963,  0.87142515, -1.3076634 ,\n",
       "         -1.402667  ]], dtype=float32),\n",
       " array([-0.696374  ,  0.59356725, -1.3137612 ,  0.44523543, -2.509307  ,\n",
       "        -0.73417455], dtype=float32),\n",
       " array([[-0.16102456],\n",
       "        [-0.4536285 ],\n",
       "        [ 0.08635093],\n",
       "        [-0.29675502],\n",
       "        [-0.1190559 ],\n",
       "        [ 0.3144942 ]], dtype=float32),\n",
       " array([-1.0726247], dtype=float32)]"
      ]
     },
     "execution_count": 44,
     "metadata": {},
     "output_type": "execute_result"
    }
   ],
   "source": [
    "## get the weights\n",
    "classifier.get_weights()"
   ]
  },
  {
   "cell_type": "code",
   "execution_count": null,
   "id": "2aa8e991",
   "metadata": {},
   "outputs": [],
   "source": [
    "s"
   ]
  }
 ],
 "metadata": {
  "kernelspec": {
   "display_name": "Python 3 (ipykernel)",
   "language": "python",
   "name": "python3"
  },
  "language_info": {
   "codemirror_mode": {
    "name": "ipython",
    "version": 3
   },
   "file_extension": ".py",
   "mimetype": "text/x-python",
   "name": "python",
   "nbconvert_exporter": "python",
   "pygments_lexer": "ipython3",
   "version": "3.10.9"
  }
 },
 "nbformat": 4,
 "nbformat_minor": 5
}
